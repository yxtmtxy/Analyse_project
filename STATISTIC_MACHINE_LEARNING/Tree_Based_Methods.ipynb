{
  "cells": [
    {
      "cell_type": "markdown",
      "id": "934eb5b1",
      "metadata": {
        "id": "934eb5b1"
      },
      "source": [
        "# Tree-Based Methods"
      ]
    },
    {
      "cell_type": "markdown",
      "id": "54d5b3e6",
      "metadata": {
        "id": "54d5b3e6"
      },
      "source": [
        "We import some of our usual libraries at this top\n",
        "level."
      ]
    },
    {
      "cell_type": "code",
      "execution_count": null,
      "id": "0f4c7654",
      "metadata": {
        "execution": {
          "iopub.execute_input": "2024-06-04T23:19:40.079955Z",
          "iopub.status.busy": "2024-06-04T23:19:40.079505Z",
          "iopub.status.idle": "2024-06-04T23:19:40.907476Z",
          "shell.execute_reply": "2024-06-04T23:19:40.907166Z"
        },
        "lines_to_next_cell": 0,
        "id": "0f4c7654",
        "colab": {
          "base_uri": "https://localhost:8080/"
        },
        "outputId": "ce5f80fc-87a7-4e50-80f0-8766a0136822"
      },
      "outputs": [
        {
          "output_type": "stream",
          "name": "stdout",
          "text": [
            "Requirement already satisfied: ISLP in /usr/local/lib/python3.10/dist-packages (0.4.0)\n",
            "Requirement already satisfied: numpy>=1.7.1 in /usr/local/lib/python3.10/dist-packages (from ISLP) (1.26.4)\n",
            "Requirement already satisfied: scipy>=0.9 in /usr/local/lib/python3.10/dist-packages (from ISLP) (1.11.4)\n",
            "Requirement already satisfied: pandas>=0.20 in /usr/local/lib/python3.10/dist-packages (from ISLP) (2.2.2)\n",
            "Requirement already satisfied: lxml in /usr/local/lib/python3.10/dist-packages (from ISLP) (5.3.0)\n",
            "Requirement already satisfied: scikit-learn>=1.2 in /usr/local/lib/python3.10/dist-packages (from ISLP) (1.5.2)\n",
            "Requirement already satisfied: joblib in /usr/local/lib/python3.10/dist-packages (from ISLP) (1.4.2)\n",
            "Requirement already satisfied: statsmodels>=0.13 in /usr/local/lib/python3.10/dist-packages (from ISLP) (0.14.4)\n",
            "Requirement already satisfied: lifelines in /usr/local/lib/python3.10/dist-packages (from ISLP) (0.30.0)\n",
            "Requirement already satisfied: pygam in /usr/local/lib/python3.10/dist-packages (from ISLP) (0.9.1)\n",
            "Requirement already satisfied: torch in /usr/local/lib/python3.10/dist-packages (from ISLP) (2.5.0+cu121)\n",
            "Requirement already satisfied: pytorch-lightning in /usr/local/lib/python3.10/dist-packages (from ISLP) (2.4.0)\n",
            "Requirement already satisfied: torchmetrics in /usr/local/lib/python3.10/dist-packages (from ISLP) (1.5.2)\n",
            "Requirement already satisfied: python-dateutil>=2.8.2 in /usr/local/lib/python3.10/dist-packages (from pandas>=0.20->ISLP) (2.8.2)\n",
            "Requirement already satisfied: pytz>=2020.1 in /usr/local/lib/python3.10/dist-packages (from pandas>=0.20->ISLP) (2024.2)\n",
            "Requirement already satisfied: tzdata>=2022.7 in /usr/local/lib/python3.10/dist-packages (from pandas>=0.20->ISLP) (2024.2)\n",
            "Requirement already satisfied: threadpoolctl>=3.1.0 in /usr/local/lib/python3.10/dist-packages (from scikit-learn>=1.2->ISLP) (3.5.0)\n",
            "Requirement already satisfied: patsy>=0.5.6 in /usr/local/lib/python3.10/dist-packages (from statsmodels>=0.13->ISLP) (0.5.6)\n",
            "Requirement already satisfied: packaging>=21.3 in /usr/local/lib/python3.10/dist-packages (from statsmodels>=0.13->ISLP) (24.1)\n",
            "Requirement already satisfied: matplotlib>=3.0 in /usr/local/lib/python3.10/dist-packages (from lifelines->ISLP) (3.8.0)\n",
            "Requirement already satisfied: autograd>=1.5 in /usr/local/lib/python3.10/dist-packages (from lifelines->ISLP) (1.7.0)\n",
            "Requirement already satisfied: autograd-gamma>=0.3 in /usr/local/lib/python3.10/dist-packages (from lifelines->ISLP) (0.5.0)\n",
            "Requirement already satisfied: formulaic>=0.2.2 in /usr/local/lib/python3.10/dist-packages (from lifelines->ISLP) (1.0.2)\n",
            "Requirement already satisfied: progressbar2<5.0.0,>=4.2.0 in /usr/local/lib/python3.10/dist-packages (from pygam->ISLP) (4.5.0)\n",
            "Requirement already satisfied: tqdm>=4.57.0 in /usr/local/lib/python3.10/dist-packages (from pytorch-lightning->ISLP) (4.66.6)\n",
            "Requirement already satisfied: PyYAML>=5.4 in /usr/local/lib/python3.10/dist-packages (from pytorch-lightning->ISLP) (6.0.2)\n",
            "Requirement already satisfied: fsspec>=2022.5.0 in /usr/local/lib/python3.10/dist-packages (from fsspec[http]>=2022.5.0->pytorch-lightning->ISLP) (2024.10.0)\n",
            "Requirement already satisfied: typing-extensions>=4.4.0 in /usr/local/lib/python3.10/dist-packages (from pytorch-lightning->ISLP) (4.12.2)\n",
            "Requirement already satisfied: lightning-utilities>=0.10.0 in /usr/local/lib/python3.10/dist-packages (from pytorch-lightning->ISLP) (0.11.8)\n",
            "Requirement already satisfied: filelock in /usr/local/lib/python3.10/dist-packages (from torch->ISLP) (3.16.1)\n",
            "Requirement already satisfied: networkx in /usr/local/lib/python3.10/dist-packages (from torch->ISLP) (3.4.2)\n",
            "Requirement already satisfied: jinja2 in /usr/local/lib/python3.10/dist-packages (from torch->ISLP) (3.1.4)\n",
            "Requirement already satisfied: sympy==1.13.1 in /usr/local/lib/python3.10/dist-packages (from torch->ISLP) (1.13.1)\n",
            "Requirement already satisfied: mpmath<1.4,>=1.1.0 in /usr/local/lib/python3.10/dist-packages (from sympy==1.13.1->torch->ISLP) (1.3.0)\n",
            "Requirement already satisfied: interface-meta>=1.2.0 in /usr/local/lib/python3.10/dist-packages (from formulaic>=0.2.2->lifelines->ISLP) (1.3.0)\n",
            "Requirement already satisfied: wrapt>=1.0 in /usr/local/lib/python3.10/dist-packages (from formulaic>=0.2.2->lifelines->ISLP) (1.16.0)\n",
            "Requirement already satisfied: aiohttp!=4.0.0a0,!=4.0.0a1 in /usr/local/lib/python3.10/dist-packages (from fsspec[http]>=2022.5.0->pytorch-lightning->ISLP) (3.10.10)\n",
            "Requirement already satisfied: setuptools in /usr/local/lib/python3.10/dist-packages (from lightning-utilities>=0.10.0->pytorch-lightning->ISLP) (75.1.0)\n",
            "Requirement already satisfied: contourpy>=1.0.1 in /usr/local/lib/python3.10/dist-packages (from matplotlib>=3.0->lifelines->ISLP) (1.3.0)\n",
            "Requirement already satisfied: cycler>=0.10 in /usr/local/lib/python3.10/dist-packages (from matplotlib>=3.0->lifelines->ISLP) (0.12.1)\n",
            "Requirement already satisfied: fonttools>=4.22.0 in /usr/local/lib/python3.10/dist-packages (from matplotlib>=3.0->lifelines->ISLP) (4.54.1)\n",
            "Requirement already satisfied: kiwisolver>=1.0.1 in /usr/local/lib/python3.10/dist-packages (from matplotlib>=3.0->lifelines->ISLP) (1.4.7)\n",
            "Requirement already satisfied: pillow>=6.2.0 in /usr/local/lib/python3.10/dist-packages (from matplotlib>=3.0->lifelines->ISLP) (10.4.0)\n",
            "Requirement already satisfied: pyparsing>=2.3.1 in /usr/local/lib/python3.10/dist-packages (from matplotlib>=3.0->lifelines->ISLP) (3.2.0)\n",
            "Requirement already satisfied: six in /usr/local/lib/python3.10/dist-packages (from patsy>=0.5.6->statsmodels>=0.13->ISLP) (1.16.0)\n",
            "Requirement already satisfied: python-utils>=3.8.1 in /usr/local/lib/python3.10/dist-packages (from progressbar2<5.0.0,>=4.2.0->pygam->ISLP) (3.9.0)\n",
            "Requirement already satisfied: MarkupSafe>=2.0 in /usr/local/lib/python3.10/dist-packages (from jinja2->torch->ISLP) (3.0.2)\n",
            "Requirement already satisfied: aiohappyeyeballs>=2.3.0 in /usr/local/lib/python3.10/dist-packages (from aiohttp!=4.0.0a0,!=4.0.0a1->fsspec[http]>=2022.5.0->pytorch-lightning->ISLP) (2.4.3)\n",
            "Requirement already satisfied: aiosignal>=1.1.2 in /usr/local/lib/python3.10/dist-packages (from aiohttp!=4.0.0a0,!=4.0.0a1->fsspec[http]>=2022.5.0->pytorch-lightning->ISLP) (1.3.1)\n",
            "Requirement already satisfied: attrs>=17.3.0 in /usr/local/lib/python3.10/dist-packages (from aiohttp!=4.0.0a0,!=4.0.0a1->fsspec[http]>=2022.5.0->pytorch-lightning->ISLP) (24.2.0)\n",
            "Requirement already satisfied: frozenlist>=1.1.1 in /usr/local/lib/python3.10/dist-packages (from aiohttp!=4.0.0a0,!=4.0.0a1->fsspec[http]>=2022.5.0->pytorch-lightning->ISLP) (1.5.0)\n",
            "Requirement already satisfied: multidict<7.0,>=4.5 in /usr/local/lib/python3.10/dist-packages (from aiohttp!=4.0.0a0,!=4.0.0a1->fsspec[http]>=2022.5.0->pytorch-lightning->ISLP) (6.1.0)\n",
            "Requirement already satisfied: yarl<2.0,>=1.12.0 in /usr/local/lib/python3.10/dist-packages (from aiohttp!=4.0.0a0,!=4.0.0a1->fsspec[http]>=2022.5.0->pytorch-lightning->ISLP) (1.17.0)\n",
            "Requirement already satisfied: async-timeout<5.0,>=4.0 in /usr/local/lib/python3.10/dist-packages (from aiohttp!=4.0.0a0,!=4.0.0a1->fsspec[http]>=2022.5.0->pytorch-lightning->ISLP) (4.0.3)\n",
            "Requirement already satisfied: idna>=2.0 in /usr/local/lib/python3.10/dist-packages (from yarl<2.0,>=1.12.0->aiohttp!=4.0.0a0,!=4.0.0a1->fsspec[http]>=2022.5.0->pytorch-lightning->ISLP) (3.10)\n",
            "Requirement already satisfied: propcache>=0.2.0 in /usr/local/lib/python3.10/dist-packages (from yarl<2.0,>=1.12.0->aiohttp!=4.0.0a0,!=4.0.0a1->fsspec[http]>=2022.5.0->pytorch-lightning->ISLP) (0.2.0)\n"
          ]
        }
      ],
      "source": [
        "! pip install ISLP\n",
        "import numpy as np\n",
        "import pandas as pd\n",
        "from matplotlib.pyplot import subplots\n",
        "import sklearn.model_selection as skm\n",
        "from ISLP import load_data, confusion_table\n",
        "from ISLP.models import ModelSpec as MS\n",
        "import matplotlib.pyplot as plt"
      ]
    },
    {
      "cell_type": "markdown",
      "id": "8bafdee4",
      "metadata": {
        "id": "8bafdee4"
      },
      "source": [
        "We also  collect the new imports\n",
        "needed for this lab."
      ]
    },
    {
      "cell_type": "code",
      "execution_count": null,
      "id": "8d6cbed4",
      "metadata": {
        "execution": {
          "iopub.execute_input": "2024-06-04T23:19:40.909130Z",
          "iopub.status.busy": "2024-06-04T23:19:40.909012Z",
          "iopub.status.idle": "2024-06-04T23:19:40.959537Z",
          "shell.execute_reply": "2024-06-04T23:19:40.959331Z"
        },
        "lines_to_next_cell": 2,
        "id": "8d6cbed4"
      },
      "outputs": [],
      "source": [
        "from sklearn.tree import (DecisionTreeClassifier as DTC,\n",
        "                          DecisionTreeRegressor as DTR,\n",
        "                          plot_tree,\n",
        "                          export_text)\n",
        "from sklearn.metrics import (accuracy_score,\n",
        "                             log_loss)\n",
        "from sklearn.ensemble import \\\n",
        "     (RandomForestRegressor as RF,\n",
        "      GradientBoostingRegressor as GBR)\n"
      ]
    },
    {
      "cell_type": "markdown",
      "id": "2e4ca47c",
      "metadata": {
        "id": "2e4ca47c"
      },
      "source": [
        "## Fitting Classification Trees"
      ]
    },
    {
      "cell_type": "markdown",
      "id": "b0d12b3d",
      "metadata": {
        "id": "b0d12b3d"
      },
      "source": [
        "We first use classification trees to analyze the  `Carseats`  data set.\n",
        "In these data, `Sales` is a continuous variable, and so we begin\n",
        "by recoding it as a binary variable. We use the `where()`\n",
        "function to create a variable, called `High`, which takes on a\n",
        "value of `Yes` if the `Sales` variable exceeds 8, and takes\n",
        "on a value of `No` otherwise."
      ]
    },
    {
      "cell_type": "markdown",
      "source": [
        "A simulated data set containing sales of child car seats at 400 different stores.\n",
        "\n",
        "- Sales: Unit sales (in thousands) at each location\n",
        "\n",
        "- CompPrice: Price charged by competitor at each location\n",
        "\n",
        "- Income: Community income level (in thousands of dollars)\n",
        "\n",
        "- Advertising: Local advertising budget for company at each location (in thousands of dollars)\n",
        "\n",
        "- Population: Population size in region (in thousands)\n",
        "\n",
        "- Price: Price company charges for car seats at each site\n",
        "\n",
        "- ShelveLoc: A factor with levels Bad, Good and Medium indicating the quality of the shelving location for the car seats at each site\n",
        "\n",
        "- Age: Average age of the local population\n",
        "\n",
        "- Education: Education level at each location\n",
        "\n",
        "- Urban: A factor with levels No and Yes to indicate whether the store is in an urban or rural location\n",
        "\n",
        "- US: A factor with levels No and Yes to indicate whether the store is in the US or not"
      ],
      "metadata": {
        "id": "vel1NxhDffgz"
      },
      "id": "vel1NxhDffgz"
    },
    {
      "cell_type": "code",
      "execution_count": null,
      "id": "d85f1550",
      "metadata": {
        "execution": {
          "iopub.execute_input": "2024-06-04T23:19:40.960966Z",
          "iopub.status.busy": "2024-06-04T23:19:40.960851Z",
          "iopub.status.idle": "2024-06-04T23:19:40.965270Z",
          "shell.execute_reply": "2024-06-04T23:19:40.965080Z"
        },
        "id": "d85f1550"
      },
      "outputs": [],
      "source": [
        "Carseats = load_data('Carseats')\n",
        "High = np.where(Carseats.Sales > 8,\n",
        "                \"Yes\",\n",
        "                \"No\")\n"
      ]
    },
    {
      "cell_type": "code",
      "source": [
        "Carseats"
      ],
      "metadata": {
        "colab": {
          "base_uri": "https://localhost:8080/",
          "height": 423
        },
        "id": "BOjNfvDufYre",
        "outputId": "6d47b938-eb08-45dc-dbac-ac7e71f6d8e8"
      },
      "id": "BOjNfvDufYre",
      "execution_count": null,
      "outputs": [
        {
          "output_type": "execute_result",
          "data": {
            "text/plain": [
              "     Sales  CompPrice  Income  Advertising  Population  Price ShelveLoc  Age  \\\n",
              "0     9.50        138      73           11         276    120       Bad   42   \n",
              "1    11.22        111      48           16         260     83      Good   65   \n",
              "2    10.06        113      35           10         269     80    Medium   59   \n",
              "3     7.40        117     100            4         466     97    Medium   55   \n",
              "4     4.15        141      64            3         340    128       Bad   38   \n",
              "..     ...        ...     ...          ...         ...    ...       ...  ...   \n",
              "395  12.57        138     108           17         203    128      Good   33   \n",
              "396   6.14        139      23            3          37    120    Medium   55   \n",
              "397   7.41        162      26           12         368    159    Medium   40   \n",
              "398   5.94        100      79            7         284     95       Bad   50   \n",
              "399   9.71        134      37            0          27    120      Good   49   \n",
              "\n",
              "     Education Urban   US  \n",
              "0           17   Yes  Yes  \n",
              "1           10   Yes  Yes  \n",
              "2           12   Yes  Yes  \n",
              "3           14   Yes  Yes  \n",
              "4           13   Yes   No  \n",
              "..         ...   ...  ...  \n",
              "395         14   Yes  Yes  \n",
              "396         11    No  Yes  \n",
              "397         18   Yes  Yes  \n",
              "398         12   Yes  Yes  \n",
              "399         16   Yes  Yes  \n",
              "\n",
              "[400 rows x 11 columns]"
            ],
            "text/html": [
              "\n",
              "  <div id=\"df-839a0c2e-f7cb-447c-85a6-4ba0553c4a92\" class=\"colab-df-container\">\n",
              "    <div>\n",
              "<style scoped>\n",
              "    .dataframe tbody tr th:only-of-type {\n",
              "        vertical-align: middle;\n",
              "    }\n",
              "\n",
              "    .dataframe tbody tr th {\n",
              "        vertical-align: top;\n",
              "    }\n",
              "\n",
              "    .dataframe thead th {\n",
              "        text-align: right;\n",
              "    }\n",
              "</style>\n",
              "<table border=\"1\" class=\"dataframe\">\n",
              "  <thead>\n",
              "    <tr style=\"text-align: right;\">\n",
              "      <th></th>\n",
              "      <th>Sales</th>\n",
              "      <th>CompPrice</th>\n",
              "      <th>Income</th>\n",
              "      <th>Advertising</th>\n",
              "      <th>Population</th>\n",
              "      <th>Price</th>\n",
              "      <th>ShelveLoc</th>\n",
              "      <th>Age</th>\n",
              "      <th>Education</th>\n",
              "      <th>Urban</th>\n",
              "      <th>US</th>\n",
              "    </tr>\n",
              "  </thead>\n",
              "  <tbody>\n",
              "    <tr>\n",
              "      <th>0</th>\n",
              "      <td>9.50</td>\n",
              "      <td>138</td>\n",
              "      <td>73</td>\n",
              "      <td>11</td>\n",
              "      <td>276</td>\n",
              "      <td>120</td>\n",
              "      <td>Bad</td>\n",
              "      <td>42</td>\n",
              "      <td>17</td>\n",
              "      <td>Yes</td>\n",
              "      <td>Yes</td>\n",
              "    </tr>\n",
              "    <tr>\n",
              "      <th>1</th>\n",
              "      <td>11.22</td>\n",
              "      <td>111</td>\n",
              "      <td>48</td>\n",
              "      <td>16</td>\n",
              "      <td>260</td>\n",
              "      <td>83</td>\n",
              "      <td>Good</td>\n",
              "      <td>65</td>\n",
              "      <td>10</td>\n",
              "      <td>Yes</td>\n",
              "      <td>Yes</td>\n",
              "    </tr>\n",
              "    <tr>\n",
              "      <th>2</th>\n",
              "      <td>10.06</td>\n",
              "      <td>113</td>\n",
              "      <td>35</td>\n",
              "      <td>10</td>\n",
              "      <td>269</td>\n",
              "      <td>80</td>\n",
              "      <td>Medium</td>\n",
              "      <td>59</td>\n",
              "      <td>12</td>\n",
              "      <td>Yes</td>\n",
              "      <td>Yes</td>\n",
              "    </tr>\n",
              "    <tr>\n",
              "      <th>3</th>\n",
              "      <td>7.40</td>\n",
              "      <td>117</td>\n",
              "      <td>100</td>\n",
              "      <td>4</td>\n",
              "      <td>466</td>\n",
              "      <td>97</td>\n",
              "      <td>Medium</td>\n",
              "      <td>55</td>\n",
              "      <td>14</td>\n",
              "      <td>Yes</td>\n",
              "      <td>Yes</td>\n",
              "    </tr>\n",
              "    <tr>\n",
              "      <th>4</th>\n",
              "      <td>4.15</td>\n",
              "      <td>141</td>\n",
              "      <td>64</td>\n",
              "      <td>3</td>\n",
              "      <td>340</td>\n",
              "      <td>128</td>\n",
              "      <td>Bad</td>\n",
              "      <td>38</td>\n",
              "      <td>13</td>\n",
              "      <td>Yes</td>\n",
              "      <td>No</td>\n",
              "    </tr>\n",
              "    <tr>\n",
              "      <th>...</th>\n",
              "      <td>...</td>\n",
              "      <td>...</td>\n",
              "      <td>...</td>\n",
              "      <td>...</td>\n",
              "      <td>...</td>\n",
              "      <td>...</td>\n",
              "      <td>...</td>\n",
              "      <td>...</td>\n",
              "      <td>...</td>\n",
              "      <td>...</td>\n",
              "      <td>...</td>\n",
              "    </tr>\n",
              "    <tr>\n",
              "      <th>395</th>\n",
              "      <td>12.57</td>\n",
              "      <td>138</td>\n",
              "      <td>108</td>\n",
              "      <td>17</td>\n",
              "      <td>203</td>\n",
              "      <td>128</td>\n",
              "      <td>Good</td>\n",
              "      <td>33</td>\n",
              "      <td>14</td>\n",
              "      <td>Yes</td>\n",
              "      <td>Yes</td>\n",
              "    </tr>\n",
              "    <tr>\n",
              "      <th>396</th>\n",
              "      <td>6.14</td>\n",
              "      <td>139</td>\n",
              "      <td>23</td>\n",
              "      <td>3</td>\n",
              "      <td>37</td>\n",
              "      <td>120</td>\n",
              "      <td>Medium</td>\n",
              "      <td>55</td>\n",
              "      <td>11</td>\n",
              "      <td>No</td>\n",
              "      <td>Yes</td>\n",
              "    </tr>\n",
              "    <tr>\n",
              "      <th>397</th>\n",
              "      <td>7.41</td>\n",
              "      <td>162</td>\n",
              "      <td>26</td>\n",
              "      <td>12</td>\n",
              "      <td>368</td>\n",
              "      <td>159</td>\n",
              "      <td>Medium</td>\n",
              "      <td>40</td>\n",
              "      <td>18</td>\n",
              "      <td>Yes</td>\n",
              "      <td>Yes</td>\n",
              "    </tr>\n",
              "    <tr>\n",
              "      <th>398</th>\n",
              "      <td>5.94</td>\n",
              "      <td>100</td>\n",
              "      <td>79</td>\n",
              "      <td>7</td>\n",
              "      <td>284</td>\n",
              "      <td>95</td>\n",
              "      <td>Bad</td>\n",
              "      <td>50</td>\n",
              "      <td>12</td>\n",
              "      <td>Yes</td>\n",
              "      <td>Yes</td>\n",
              "    </tr>\n",
              "    <tr>\n",
              "      <th>399</th>\n",
              "      <td>9.71</td>\n",
              "      <td>134</td>\n",
              "      <td>37</td>\n",
              "      <td>0</td>\n",
              "      <td>27</td>\n",
              "      <td>120</td>\n",
              "      <td>Good</td>\n",
              "      <td>49</td>\n",
              "      <td>16</td>\n",
              "      <td>Yes</td>\n",
              "      <td>Yes</td>\n",
              "    </tr>\n",
              "  </tbody>\n",
              "</table>\n",
              "<p>400 rows × 11 columns</p>\n",
              "</div>\n",
              "    <div class=\"colab-df-buttons\">\n",
              "\n",
              "  <div class=\"colab-df-container\">\n",
              "    <button class=\"colab-df-convert\" onclick=\"convertToInteractive('df-839a0c2e-f7cb-447c-85a6-4ba0553c4a92')\"\n",
              "            title=\"Convert this dataframe to an interactive table.\"\n",
              "            style=\"display:none;\">\n",
              "\n",
              "  <svg xmlns=\"http://www.w3.org/2000/svg\" height=\"24px\" viewBox=\"0 -960 960 960\">\n",
              "    <path d=\"M120-120v-720h720v720H120Zm60-500h600v-160H180v160Zm220 220h160v-160H400v160Zm0 220h160v-160H400v160ZM180-400h160v-160H180v160Zm440 0h160v-160H620v160ZM180-180h160v-160H180v160Zm440 0h160v-160H620v160Z\"/>\n",
              "  </svg>\n",
              "    </button>\n",
              "\n",
              "  <style>\n",
              "    .colab-df-container {\n",
              "      display:flex;\n",
              "      gap: 12px;\n",
              "    }\n",
              "\n",
              "    .colab-df-convert {\n",
              "      background-color: #E8F0FE;\n",
              "      border: none;\n",
              "      border-radius: 50%;\n",
              "      cursor: pointer;\n",
              "      display: none;\n",
              "      fill: #1967D2;\n",
              "      height: 32px;\n",
              "      padding: 0 0 0 0;\n",
              "      width: 32px;\n",
              "    }\n",
              "\n",
              "    .colab-df-convert:hover {\n",
              "      background-color: #E2EBFA;\n",
              "      box-shadow: 0px 1px 2px rgba(60, 64, 67, 0.3), 0px 1px 3px 1px rgba(60, 64, 67, 0.15);\n",
              "      fill: #174EA6;\n",
              "    }\n",
              "\n",
              "    .colab-df-buttons div {\n",
              "      margin-bottom: 4px;\n",
              "    }\n",
              "\n",
              "    [theme=dark] .colab-df-convert {\n",
              "      background-color: #3B4455;\n",
              "      fill: #D2E3FC;\n",
              "    }\n",
              "\n",
              "    [theme=dark] .colab-df-convert:hover {\n",
              "      background-color: #434B5C;\n",
              "      box-shadow: 0px 1px 3px 1px rgba(0, 0, 0, 0.15);\n",
              "      filter: drop-shadow(0px 1px 2px rgba(0, 0, 0, 0.3));\n",
              "      fill: #FFFFFF;\n",
              "    }\n",
              "  </style>\n",
              "\n",
              "    <script>\n",
              "      const buttonEl =\n",
              "        document.querySelector('#df-839a0c2e-f7cb-447c-85a6-4ba0553c4a92 button.colab-df-convert');\n",
              "      buttonEl.style.display =\n",
              "        google.colab.kernel.accessAllowed ? 'block' : 'none';\n",
              "\n",
              "      async function convertToInteractive(key) {\n",
              "        const element = document.querySelector('#df-839a0c2e-f7cb-447c-85a6-4ba0553c4a92');\n",
              "        const dataTable =\n",
              "          await google.colab.kernel.invokeFunction('convertToInteractive',\n",
              "                                                    [key], {});\n",
              "        if (!dataTable) return;\n",
              "\n",
              "        const docLinkHtml = 'Like what you see? Visit the ' +\n",
              "          '<a target=\"_blank\" href=https://colab.research.google.com/notebooks/data_table.ipynb>data table notebook</a>'\n",
              "          + ' to learn more about interactive tables.';\n",
              "        element.innerHTML = '';\n",
              "        dataTable['output_type'] = 'display_data';\n",
              "        await google.colab.output.renderOutput(dataTable, element);\n",
              "        const docLink = document.createElement('div');\n",
              "        docLink.innerHTML = docLinkHtml;\n",
              "        element.appendChild(docLink);\n",
              "      }\n",
              "    </script>\n",
              "  </div>\n",
              "\n",
              "\n",
              "<div id=\"df-ad3f96ec-b515-4246-ab6c-276454e8e877\">\n",
              "  <button class=\"colab-df-quickchart\" onclick=\"quickchart('df-ad3f96ec-b515-4246-ab6c-276454e8e877')\"\n",
              "            title=\"Suggest charts\"\n",
              "            style=\"display:none;\">\n",
              "\n",
              "<svg xmlns=\"http://www.w3.org/2000/svg\" height=\"24px\"viewBox=\"0 0 24 24\"\n",
              "     width=\"24px\">\n",
              "    <g>\n",
              "        <path d=\"M19 3H5c-1.1 0-2 .9-2 2v14c0 1.1.9 2 2 2h14c1.1 0 2-.9 2-2V5c0-1.1-.9-2-2-2zM9 17H7v-7h2v7zm4 0h-2V7h2v10zm4 0h-2v-4h2v4z\"/>\n",
              "    </g>\n",
              "</svg>\n",
              "  </button>\n",
              "\n",
              "<style>\n",
              "  .colab-df-quickchart {\n",
              "      --bg-color: #E8F0FE;\n",
              "      --fill-color: #1967D2;\n",
              "      --hover-bg-color: #E2EBFA;\n",
              "      --hover-fill-color: #174EA6;\n",
              "      --disabled-fill-color: #AAA;\n",
              "      --disabled-bg-color: #DDD;\n",
              "  }\n",
              "\n",
              "  [theme=dark] .colab-df-quickchart {\n",
              "      --bg-color: #3B4455;\n",
              "      --fill-color: #D2E3FC;\n",
              "      --hover-bg-color: #434B5C;\n",
              "      --hover-fill-color: #FFFFFF;\n",
              "      --disabled-bg-color: #3B4455;\n",
              "      --disabled-fill-color: #666;\n",
              "  }\n",
              "\n",
              "  .colab-df-quickchart {\n",
              "    background-color: var(--bg-color);\n",
              "    border: none;\n",
              "    border-radius: 50%;\n",
              "    cursor: pointer;\n",
              "    display: none;\n",
              "    fill: var(--fill-color);\n",
              "    height: 32px;\n",
              "    padding: 0;\n",
              "    width: 32px;\n",
              "  }\n",
              "\n",
              "  .colab-df-quickchart:hover {\n",
              "    background-color: var(--hover-bg-color);\n",
              "    box-shadow: 0 1px 2px rgba(60, 64, 67, 0.3), 0 1px 3px 1px rgba(60, 64, 67, 0.15);\n",
              "    fill: var(--button-hover-fill-color);\n",
              "  }\n",
              "\n",
              "  .colab-df-quickchart-complete:disabled,\n",
              "  .colab-df-quickchart-complete:disabled:hover {\n",
              "    background-color: var(--disabled-bg-color);\n",
              "    fill: var(--disabled-fill-color);\n",
              "    box-shadow: none;\n",
              "  }\n",
              "\n",
              "  .colab-df-spinner {\n",
              "    border: 2px solid var(--fill-color);\n",
              "    border-color: transparent;\n",
              "    border-bottom-color: var(--fill-color);\n",
              "    animation:\n",
              "      spin 1s steps(1) infinite;\n",
              "  }\n",
              "\n",
              "  @keyframes spin {\n",
              "    0% {\n",
              "      border-color: transparent;\n",
              "      border-bottom-color: var(--fill-color);\n",
              "      border-left-color: var(--fill-color);\n",
              "    }\n",
              "    20% {\n",
              "      border-color: transparent;\n",
              "      border-left-color: var(--fill-color);\n",
              "      border-top-color: var(--fill-color);\n",
              "    }\n",
              "    30% {\n",
              "      border-color: transparent;\n",
              "      border-left-color: var(--fill-color);\n",
              "      border-top-color: var(--fill-color);\n",
              "      border-right-color: var(--fill-color);\n",
              "    }\n",
              "    40% {\n",
              "      border-color: transparent;\n",
              "      border-right-color: var(--fill-color);\n",
              "      border-top-color: var(--fill-color);\n",
              "    }\n",
              "    60% {\n",
              "      border-color: transparent;\n",
              "      border-right-color: var(--fill-color);\n",
              "    }\n",
              "    80% {\n",
              "      border-color: transparent;\n",
              "      border-right-color: var(--fill-color);\n",
              "      border-bottom-color: var(--fill-color);\n",
              "    }\n",
              "    90% {\n",
              "      border-color: transparent;\n",
              "      border-bottom-color: var(--fill-color);\n",
              "    }\n",
              "  }\n",
              "</style>\n",
              "\n",
              "  <script>\n",
              "    async function quickchart(key) {\n",
              "      const quickchartButtonEl =\n",
              "        document.querySelector('#' + key + ' button');\n",
              "      quickchartButtonEl.disabled = true;  // To prevent multiple clicks.\n",
              "      quickchartButtonEl.classList.add('colab-df-spinner');\n",
              "      try {\n",
              "        const charts = await google.colab.kernel.invokeFunction(\n",
              "            'suggestCharts', [key], {});\n",
              "      } catch (error) {\n",
              "        console.error('Error during call to suggestCharts:', error);\n",
              "      }\n",
              "      quickchartButtonEl.classList.remove('colab-df-spinner');\n",
              "      quickchartButtonEl.classList.add('colab-df-quickchart-complete');\n",
              "    }\n",
              "    (() => {\n",
              "      let quickchartButtonEl =\n",
              "        document.querySelector('#df-ad3f96ec-b515-4246-ab6c-276454e8e877 button');\n",
              "      quickchartButtonEl.style.display =\n",
              "        google.colab.kernel.accessAllowed ? 'block' : 'none';\n",
              "    })();\n",
              "  </script>\n",
              "</div>\n",
              "\n",
              "  <div id=\"id_e361d3f9-c390-4e5c-b00b-3198fed6a960\">\n",
              "    <style>\n",
              "      .colab-df-generate {\n",
              "        background-color: #E8F0FE;\n",
              "        border: none;\n",
              "        border-radius: 50%;\n",
              "        cursor: pointer;\n",
              "        display: none;\n",
              "        fill: #1967D2;\n",
              "        height: 32px;\n",
              "        padding: 0 0 0 0;\n",
              "        width: 32px;\n",
              "      }\n",
              "\n",
              "      .colab-df-generate:hover {\n",
              "        background-color: #E2EBFA;\n",
              "        box-shadow: 0px 1px 2px rgba(60, 64, 67, 0.3), 0px 1px 3px 1px rgba(60, 64, 67, 0.15);\n",
              "        fill: #174EA6;\n",
              "      }\n",
              "\n",
              "      [theme=dark] .colab-df-generate {\n",
              "        background-color: #3B4455;\n",
              "        fill: #D2E3FC;\n",
              "      }\n",
              "\n",
              "      [theme=dark] .colab-df-generate:hover {\n",
              "        background-color: #434B5C;\n",
              "        box-shadow: 0px 1px 3px 1px rgba(0, 0, 0, 0.15);\n",
              "        filter: drop-shadow(0px 1px 2px rgba(0, 0, 0, 0.3));\n",
              "        fill: #FFFFFF;\n",
              "      }\n",
              "    </style>\n",
              "    <button class=\"colab-df-generate\" onclick=\"generateWithVariable('Carseats')\"\n",
              "            title=\"Generate code using this dataframe.\"\n",
              "            style=\"display:none;\">\n",
              "\n",
              "  <svg xmlns=\"http://www.w3.org/2000/svg\" height=\"24px\"viewBox=\"0 0 24 24\"\n",
              "       width=\"24px\">\n",
              "    <path d=\"M7,19H8.4L18.45,9,17,7.55,7,17.6ZM5,21V16.75L18.45,3.32a2,2,0,0,1,2.83,0l1.4,1.43a1.91,1.91,0,0,1,.58,1.4,1.91,1.91,0,0,1-.58,1.4L9.25,21ZM18.45,9,17,7.55Zm-12,3A5.31,5.31,0,0,0,4.9,8.1,5.31,5.31,0,0,0,1,6.5,5.31,5.31,0,0,0,4.9,4.9,5.31,5.31,0,0,0,6.5,1,5.31,5.31,0,0,0,8.1,4.9,5.31,5.31,0,0,0,12,6.5,5.46,5.46,0,0,0,6.5,12Z\"/>\n",
              "  </svg>\n",
              "    </button>\n",
              "    <script>\n",
              "      (() => {\n",
              "      const buttonEl =\n",
              "        document.querySelector('#id_e361d3f9-c390-4e5c-b00b-3198fed6a960 button.colab-df-generate');\n",
              "      buttonEl.style.display =\n",
              "        google.colab.kernel.accessAllowed ? 'block' : 'none';\n",
              "\n",
              "      buttonEl.onclick = () => {\n",
              "        google.colab.notebook.generateWithVariable('Carseats');\n",
              "      }\n",
              "      })();\n",
              "    </script>\n",
              "  </div>\n",
              "\n",
              "    </div>\n",
              "  </div>\n"
            ],
            "application/vnd.google.colaboratory.intrinsic+json": {
              "type": "dataframe",
              "variable_name": "Carseats",
              "summary": "{\n  \"name\": \"Carseats\",\n  \"rows\": 400,\n  \"fields\": [\n    {\n      \"column\": \"Sales\",\n      \"properties\": {\n        \"dtype\": \"number\",\n        \"std\": 2.8241150488068367,\n        \"min\": 0.0,\n        \"max\": 16.27,\n        \"num_unique_values\": 336,\n        \"samples\": [\n          8.55,\n          7.57,\n          5.99\n        ],\n        \"semantic_type\": \"\",\n        \"description\": \"\"\n      }\n    },\n    {\n      \"column\": \"CompPrice\",\n      \"properties\": {\n        \"dtype\": \"number\",\n        \"std\": 15,\n        \"min\": 77,\n        \"max\": 175,\n        \"num_unique_values\": 73,\n        \"samples\": [\n          141,\n          120,\n          134\n        ],\n        \"semantic_type\": \"\",\n        \"description\": \"\"\n      }\n    },\n    {\n      \"column\": \"Income\",\n      \"properties\": {\n        \"dtype\": \"number\",\n        \"std\": 27,\n        \"min\": 21,\n        \"max\": 120,\n        \"num_unique_values\": 98,\n        \"samples\": [\n          30,\n          103,\n          55\n        ],\n        \"semantic_type\": \"\",\n        \"description\": \"\"\n      }\n    },\n    {\n      \"column\": \"Advertising\",\n      \"properties\": {\n        \"dtype\": \"number\",\n        \"std\": 6,\n        \"min\": 0,\n        \"max\": 29,\n        \"num_unique_values\": 28,\n        \"samples\": [\n          2,\n          29,\n          9\n        ],\n        \"semantic_type\": \"\",\n        \"description\": \"\"\n      }\n    },\n    {\n      \"column\": \"Population\",\n      \"properties\": {\n        \"dtype\": \"number\",\n        \"std\": 147,\n        \"min\": 10,\n        \"max\": 509,\n        \"num_unique_values\": 275,\n        \"samples\": [\n          447,\n          492,\n          467\n        ],\n        \"semantic_type\": \"\",\n        \"description\": \"\"\n      }\n    },\n    {\n      \"column\": \"Price\",\n      \"properties\": {\n        \"dtype\": \"number\",\n        \"std\": 23,\n        \"min\": 24,\n        \"max\": 191,\n        \"num_unique_values\": 101,\n        \"samples\": [\n          64,\n          139,\n          49\n        ],\n        \"semantic_type\": \"\",\n        \"description\": \"\"\n      }\n    },\n    {\n      \"column\": \"ShelveLoc\",\n      \"properties\": {\n        \"dtype\": \"category\",\n        \"num_unique_values\": 3,\n        \"samples\": [\n          \"Bad\",\n          \"Good\",\n          \"Medium\"\n        ],\n        \"semantic_type\": \"\",\n        \"description\": \"\"\n      }\n    },\n    {\n      \"column\": \"Age\",\n      \"properties\": {\n        \"dtype\": \"number\",\n        \"std\": 16,\n        \"min\": 25,\n        \"max\": 80,\n        \"num_unique_values\": 56,\n        \"samples\": [\n          42,\n          78,\n          29\n        ],\n        \"semantic_type\": \"\",\n        \"description\": \"\"\n      }\n    },\n    {\n      \"column\": \"Education\",\n      \"properties\": {\n        \"dtype\": \"number\",\n        \"std\": 2,\n        \"min\": 10,\n        \"max\": 18,\n        \"num_unique_values\": 9,\n        \"samples\": [\n          18,\n          10,\n          16\n        ],\n        \"semantic_type\": \"\",\n        \"description\": \"\"\n      }\n    },\n    {\n      \"column\": \"Urban\",\n      \"properties\": {\n        \"dtype\": \"category\",\n        \"num_unique_values\": 2,\n        \"samples\": [\n          \"No\",\n          \"Yes\"\n        ],\n        \"semantic_type\": \"\",\n        \"description\": \"\"\n      }\n    },\n    {\n      \"column\": \"US\",\n      \"properties\": {\n        \"dtype\": \"category\",\n        \"num_unique_values\": 2,\n        \"samples\": [\n          \"No\",\n          \"Yes\"\n        ],\n        \"semantic_type\": \"\",\n        \"description\": \"\"\n      }\n    }\n  ]\n}"
            }
          },
          "metadata": {},
          "execution_count": 46
        }
      ]
    },
    {
      "cell_type": "markdown",
      "id": "30777bb3",
      "metadata": {
        "id": "30777bb3"
      },
      "source": [
        "We now use `DecisionTreeClassifier()`  to fit a classification tree in\n",
        "order to predict `High` using all variables but `Sales`.\n",
        "To do so, we must form a model matrix as we did when fitting regression\n",
        "models.  "
      ]
    },
    {
      "cell_type": "code",
      "execution_count": null,
      "id": "36229722",
      "metadata": {
        "execution": {
          "iopub.execute_input": "2024-06-04T23:19:40.966447Z",
          "iopub.status.busy": "2024-06-04T23:19:40.966356Z",
          "iopub.status.idle": "2024-06-04T23:19:40.975698Z",
          "shell.execute_reply": "2024-06-04T23:19:40.975481Z"
        },
        "lines_to_next_cell": 0,
        "id": "36229722"
      },
      "outputs": [],
      "source": [
        "model = MS(Carseats.columns.drop('Sales'), intercept=False)\n",
        "D = model.fit_transform(Carseats)\n",
        "feature_names = list(D.columns)\n",
        "X = np.asarray(D)\n"
      ]
    },
    {
      "cell_type": "markdown",
      "id": "a9219335",
      "metadata": {
        "id": "a9219335"
      },
      "source": [
        "We have converted `D` from a data frame to an array `X`, which is needed in some of the analysis below. We also need the `feature_names` for annotating our plots later.\n",
        "\n",
        "There are several options needed to specify the  classifier,\n",
        "such as `max_depth` (how deep to grow the tree), `min_samples_split`\n",
        "(minimum number of observations in a node to be eligible for splitting)\n",
        "and `criterion` (whether to use Gini or cross-entropy as the split criterion).\n",
        "We also set `random_state` for reproducibility; ties in the split criterion are broken at random."
      ]
    },
    {
      "cell_type": "code",
      "execution_count": null,
      "id": "587701c2",
      "metadata": {
        "execution": {
          "iopub.execute_input": "2024-06-04T23:19:40.976920Z",
          "iopub.status.busy": "2024-06-04T23:19:40.976850Z",
          "iopub.status.idle": "2024-06-04T23:19:40.981259Z",
          "shell.execute_reply": "2024-06-04T23:19:40.981057Z"
        },
        "lines_to_next_cell": 2,
        "id": "587701c2",
        "outputId": "1b2e8ee6-325c-41bd-f24e-2c930b81968f",
        "colab": {
          "base_uri": "https://localhost:8080/",
          "height": 80
        }
      },
      "outputs": [
        {
          "output_type": "execute_result",
          "data": {
            "text/plain": [
              "DecisionTreeClassifier(criterion='entropy', max_depth=3, random_state=0)"
            ],
            "text/html": [
              "<style>#sk-container-id-4 {\n",
              "  /* Definition of color scheme common for light and dark mode */\n",
              "  --sklearn-color-text: black;\n",
              "  --sklearn-color-line: gray;\n",
              "  /* Definition of color scheme for unfitted estimators */\n",
              "  --sklearn-color-unfitted-level-0: #fff5e6;\n",
              "  --sklearn-color-unfitted-level-1: #f6e4d2;\n",
              "  --sklearn-color-unfitted-level-2: #ffe0b3;\n",
              "  --sklearn-color-unfitted-level-3: chocolate;\n",
              "  /* Definition of color scheme for fitted estimators */\n",
              "  --sklearn-color-fitted-level-0: #f0f8ff;\n",
              "  --sklearn-color-fitted-level-1: #d4ebff;\n",
              "  --sklearn-color-fitted-level-2: #b3dbfd;\n",
              "  --sklearn-color-fitted-level-3: cornflowerblue;\n",
              "\n",
              "  /* Specific color for light theme */\n",
              "  --sklearn-color-text-on-default-background: var(--sg-text-color, var(--theme-code-foreground, var(--jp-content-font-color1, black)));\n",
              "  --sklearn-color-background: var(--sg-background-color, var(--theme-background, var(--jp-layout-color0, white)));\n",
              "  --sklearn-color-border-box: var(--sg-text-color, var(--theme-code-foreground, var(--jp-content-font-color1, black)));\n",
              "  --sklearn-color-icon: #696969;\n",
              "\n",
              "  @media (prefers-color-scheme: dark) {\n",
              "    /* Redefinition of color scheme for dark theme */\n",
              "    --sklearn-color-text-on-default-background: var(--sg-text-color, var(--theme-code-foreground, var(--jp-content-font-color1, white)));\n",
              "    --sklearn-color-background: var(--sg-background-color, var(--theme-background, var(--jp-layout-color0, #111)));\n",
              "    --sklearn-color-border-box: var(--sg-text-color, var(--theme-code-foreground, var(--jp-content-font-color1, white)));\n",
              "    --sklearn-color-icon: #878787;\n",
              "  }\n",
              "}\n",
              "\n",
              "#sk-container-id-4 {\n",
              "  color: var(--sklearn-color-text);\n",
              "}\n",
              "\n",
              "#sk-container-id-4 pre {\n",
              "  padding: 0;\n",
              "}\n",
              "\n",
              "#sk-container-id-4 input.sk-hidden--visually {\n",
              "  border: 0;\n",
              "  clip: rect(1px 1px 1px 1px);\n",
              "  clip: rect(1px, 1px, 1px, 1px);\n",
              "  height: 1px;\n",
              "  margin: -1px;\n",
              "  overflow: hidden;\n",
              "  padding: 0;\n",
              "  position: absolute;\n",
              "  width: 1px;\n",
              "}\n",
              "\n",
              "#sk-container-id-4 div.sk-dashed-wrapped {\n",
              "  border: 1px dashed var(--sklearn-color-line);\n",
              "  margin: 0 0.4em 0.5em 0.4em;\n",
              "  box-sizing: border-box;\n",
              "  padding-bottom: 0.4em;\n",
              "  background-color: var(--sklearn-color-background);\n",
              "}\n",
              "\n",
              "#sk-container-id-4 div.sk-container {\n",
              "  /* jupyter's `normalize.less` sets `[hidden] { display: none; }`\n",
              "     but bootstrap.min.css set `[hidden] { display: none !important; }`\n",
              "     so we also need the `!important` here to be able to override the\n",
              "     default hidden behavior on the sphinx rendered scikit-learn.org.\n",
              "     See: https://github.com/scikit-learn/scikit-learn/issues/21755 */\n",
              "  display: inline-block !important;\n",
              "  position: relative;\n",
              "}\n",
              "\n",
              "#sk-container-id-4 div.sk-text-repr-fallback {\n",
              "  display: none;\n",
              "}\n",
              "\n",
              "div.sk-parallel-item,\n",
              "div.sk-serial,\n",
              "div.sk-item {\n",
              "  /* draw centered vertical line to link estimators */\n",
              "  background-image: linear-gradient(var(--sklearn-color-text-on-default-background), var(--sklearn-color-text-on-default-background));\n",
              "  background-size: 2px 100%;\n",
              "  background-repeat: no-repeat;\n",
              "  background-position: center center;\n",
              "}\n",
              "\n",
              "/* Parallel-specific style estimator block */\n",
              "\n",
              "#sk-container-id-4 div.sk-parallel-item::after {\n",
              "  content: \"\";\n",
              "  width: 100%;\n",
              "  border-bottom: 2px solid var(--sklearn-color-text-on-default-background);\n",
              "  flex-grow: 1;\n",
              "}\n",
              "\n",
              "#sk-container-id-4 div.sk-parallel {\n",
              "  display: flex;\n",
              "  align-items: stretch;\n",
              "  justify-content: center;\n",
              "  background-color: var(--sklearn-color-background);\n",
              "  position: relative;\n",
              "}\n",
              "\n",
              "#sk-container-id-4 div.sk-parallel-item {\n",
              "  display: flex;\n",
              "  flex-direction: column;\n",
              "}\n",
              "\n",
              "#sk-container-id-4 div.sk-parallel-item:first-child::after {\n",
              "  align-self: flex-end;\n",
              "  width: 50%;\n",
              "}\n",
              "\n",
              "#sk-container-id-4 div.sk-parallel-item:last-child::after {\n",
              "  align-self: flex-start;\n",
              "  width: 50%;\n",
              "}\n",
              "\n",
              "#sk-container-id-4 div.sk-parallel-item:only-child::after {\n",
              "  width: 0;\n",
              "}\n",
              "\n",
              "/* Serial-specific style estimator block */\n",
              "\n",
              "#sk-container-id-4 div.sk-serial {\n",
              "  display: flex;\n",
              "  flex-direction: column;\n",
              "  align-items: center;\n",
              "  background-color: var(--sklearn-color-background);\n",
              "  padding-right: 1em;\n",
              "  padding-left: 1em;\n",
              "}\n",
              "\n",
              "\n",
              "/* Toggleable style: style used for estimator/Pipeline/ColumnTransformer box that is\n",
              "clickable and can be expanded/collapsed.\n",
              "- Pipeline and ColumnTransformer use this feature and define the default style\n",
              "- Estimators will overwrite some part of the style using the `sk-estimator` class\n",
              "*/\n",
              "\n",
              "/* Pipeline and ColumnTransformer style (default) */\n",
              "\n",
              "#sk-container-id-4 div.sk-toggleable {\n",
              "  /* Default theme specific background. It is overwritten whether we have a\n",
              "  specific estimator or a Pipeline/ColumnTransformer */\n",
              "  background-color: var(--sklearn-color-background);\n",
              "}\n",
              "\n",
              "/* Toggleable label */\n",
              "#sk-container-id-4 label.sk-toggleable__label {\n",
              "  cursor: pointer;\n",
              "  display: block;\n",
              "  width: 100%;\n",
              "  margin-bottom: 0;\n",
              "  padding: 0.5em;\n",
              "  box-sizing: border-box;\n",
              "  text-align: center;\n",
              "}\n",
              "\n",
              "#sk-container-id-4 label.sk-toggleable__label-arrow:before {\n",
              "  /* Arrow on the left of the label */\n",
              "  content: \"▸\";\n",
              "  float: left;\n",
              "  margin-right: 0.25em;\n",
              "  color: var(--sklearn-color-icon);\n",
              "}\n",
              "\n",
              "#sk-container-id-4 label.sk-toggleable__label-arrow:hover:before {\n",
              "  color: var(--sklearn-color-text);\n",
              "}\n",
              "\n",
              "/* Toggleable content - dropdown */\n",
              "\n",
              "#sk-container-id-4 div.sk-toggleable__content {\n",
              "  max-height: 0;\n",
              "  max-width: 0;\n",
              "  overflow: hidden;\n",
              "  text-align: left;\n",
              "  /* unfitted */\n",
              "  background-color: var(--sklearn-color-unfitted-level-0);\n",
              "}\n",
              "\n",
              "#sk-container-id-4 div.sk-toggleable__content.fitted {\n",
              "  /* fitted */\n",
              "  background-color: var(--sklearn-color-fitted-level-0);\n",
              "}\n",
              "\n",
              "#sk-container-id-4 div.sk-toggleable__content pre {\n",
              "  margin: 0.2em;\n",
              "  border-radius: 0.25em;\n",
              "  color: var(--sklearn-color-text);\n",
              "  /* unfitted */\n",
              "  background-color: var(--sklearn-color-unfitted-level-0);\n",
              "}\n",
              "\n",
              "#sk-container-id-4 div.sk-toggleable__content.fitted pre {\n",
              "  /* unfitted */\n",
              "  background-color: var(--sklearn-color-fitted-level-0);\n",
              "}\n",
              "\n",
              "#sk-container-id-4 input.sk-toggleable__control:checked~div.sk-toggleable__content {\n",
              "  /* Expand drop-down */\n",
              "  max-height: 200px;\n",
              "  max-width: 100%;\n",
              "  overflow: auto;\n",
              "}\n",
              "\n",
              "#sk-container-id-4 input.sk-toggleable__control:checked~label.sk-toggleable__label-arrow:before {\n",
              "  content: \"▾\";\n",
              "}\n",
              "\n",
              "/* Pipeline/ColumnTransformer-specific style */\n",
              "\n",
              "#sk-container-id-4 div.sk-label input.sk-toggleable__control:checked~label.sk-toggleable__label {\n",
              "  color: var(--sklearn-color-text);\n",
              "  background-color: var(--sklearn-color-unfitted-level-2);\n",
              "}\n",
              "\n",
              "#sk-container-id-4 div.sk-label.fitted input.sk-toggleable__control:checked~label.sk-toggleable__label {\n",
              "  background-color: var(--sklearn-color-fitted-level-2);\n",
              "}\n",
              "\n",
              "/* Estimator-specific style */\n",
              "\n",
              "/* Colorize estimator box */\n",
              "#sk-container-id-4 div.sk-estimator input.sk-toggleable__control:checked~label.sk-toggleable__label {\n",
              "  /* unfitted */\n",
              "  background-color: var(--sklearn-color-unfitted-level-2);\n",
              "}\n",
              "\n",
              "#sk-container-id-4 div.sk-estimator.fitted input.sk-toggleable__control:checked~label.sk-toggleable__label {\n",
              "  /* fitted */\n",
              "  background-color: var(--sklearn-color-fitted-level-2);\n",
              "}\n",
              "\n",
              "#sk-container-id-4 div.sk-label label.sk-toggleable__label,\n",
              "#sk-container-id-4 div.sk-label label {\n",
              "  /* The background is the default theme color */\n",
              "  color: var(--sklearn-color-text-on-default-background);\n",
              "}\n",
              "\n",
              "/* On hover, darken the color of the background */\n",
              "#sk-container-id-4 div.sk-label:hover label.sk-toggleable__label {\n",
              "  color: var(--sklearn-color-text);\n",
              "  background-color: var(--sklearn-color-unfitted-level-2);\n",
              "}\n",
              "\n",
              "/* Label box, darken color on hover, fitted */\n",
              "#sk-container-id-4 div.sk-label.fitted:hover label.sk-toggleable__label.fitted {\n",
              "  color: var(--sklearn-color-text);\n",
              "  background-color: var(--sklearn-color-fitted-level-2);\n",
              "}\n",
              "\n",
              "/* Estimator label */\n",
              "\n",
              "#sk-container-id-4 div.sk-label label {\n",
              "  font-family: monospace;\n",
              "  font-weight: bold;\n",
              "  display: inline-block;\n",
              "  line-height: 1.2em;\n",
              "}\n",
              "\n",
              "#sk-container-id-4 div.sk-label-container {\n",
              "  text-align: center;\n",
              "}\n",
              "\n",
              "/* Estimator-specific */\n",
              "#sk-container-id-4 div.sk-estimator {\n",
              "  font-family: monospace;\n",
              "  border: 1px dotted var(--sklearn-color-border-box);\n",
              "  border-radius: 0.25em;\n",
              "  box-sizing: border-box;\n",
              "  margin-bottom: 0.5em;\n",
              "  /* unfitted */\n",
              "  background-color: var(--sklearn-color-unfitted-level-0);\n",
              "}\n",
              "\n",
              "#sk-container-id-4 div.sk-estimator.fitted {\n",
              "  /* fitted */\n",
              "  background-color: var(--sklearn-color-fitted-level-0);\n",
              "}\n",
              "\n",
              "/* on hover */\n",
              "#sk-container-id-4 div.sk-estimator:hover {\n",
              "  /* unfitted */\n",
              "  background-color: var(--sklearn-color-unfitted-level-2);\n",
              "}\n",
              "\n",
              "#sk-container-id-4 div.sk-estimator.fitted:hover {\n",
              "  /* fitted */\n",
              "  background-color: var(--sklearn-color-fitted-level-2);\n",
              "}\n",
              "\n",
              "/* Specification for estimator info (e.g. \"i\" and \"?\") */\n",
              "\n",
              "/* Common style for \"i\" and \"?\" */\n",
              "\n",
              ".sk-estimator-doc-link,\n",
              "a:link.sk-estimator-doc-link,\n",
              "a:visited.sk-estimator-doc-link {\n",
              "  float: right;\n",
              "  font-size: smaller;\n",
              "  line-height: 1em;\n",
              "  font-family: monospace;\n",
              "  background-color: var(--sklearn-color-background);\n",
              "  border-radius: 1em;\n",
              "  height: 1em;\n",
              "  width: 1em;\n",
              "  text-decoration: none !important;\n",
              "  margin-left: 1ex;\n",
              "  /* unfitted */\n",
              "  border: var(--sklearn-color-unfitted-level-1) 1pt solid;\n",
              "  color: var(--sklearn-color-unfitted-level-1);\n",
              "}\n",
              "\n",
              ".sk-estimator-doc-link.fitted,\n",
              "a:link.sk-estimator-doc-link.fitted,\n",
              "a:visited.sk-estimator-doc-link.fitted {\n",
              "  /* fitted */\n",
              "  border: var(--sklearn-color-fitted-level-1) 1pt solid;\n",
              "  color: var(--sklearn-color-fitted-level-1);\n",
              "}\n",
              "\n",
              "/* On hover */\n",
              "div.sk-estimator:hover .sk-estimator-doc-link:hover,\n",
              ".sk-estimator-doc-link:hover,\n",
              "div.sk-label-container:hover .sk-estimator-doc-link:hover,\n",
              ".sk-estimator-doc-link:hover {\n",
              "  /* unfitted */\n",
              "  background-color: var(--sklearn-color-unfitted-level-3);\n",
              "  color: var(--sklearn-color-background);\n",
              "  text-decoration: none;\n",
              "}\n",
              "\n",
              "div.sk-estimator.fitted:hover .sk-estimator-doc-link.fitted:hover,\n",
              ".sk-estimator-doc-link.fitted:hover,\n",
              "div.sk-label-container:hover .sk-estimator-doc-link.fitted:hover,\n",
              ".sk-estimator-doc-link.fitted:hover {\n",
              "  /* fitted */\n",
              "  background-color: var(--sklearn-color-fitted-level-3);\n",
              "  color: var(--sklearn-color-background);\n",
              "  text-decoration: none;\n",
              "}\n",
              "\n",
              "/* Span, style for the box shown on hovering the info icon */\n",
              ".sk-estimator-doc-link span {\n",
              "  display: none;\n",
              "  z-index: 9999;\n",
              "  position: relative;\n",
              "  font-weight: normal;\n",
              "  right: .2ex;\n",
              "  padding: .5ex;\n",
              "  margin: .5ex;\n",
              "  width: min-content;\n",
              "  min-width: 20ex;\n",
              "  max-width: 50ex;\n",
              "  color: var(--sklearn-color-text);\n",
              "  box-shadow: 2pt 2pt 4pt #999;\n",
              "  /* unfitted */\n",
              "  background: var(--sklearn-color-unfitted-level-0);\n",
              "  border: .5pt solid var(--sklearn-color-unfitted-level-3);\n",
              "}\n",
              "\n",
              ".sk-estimator-doc-link.fitted span {\n",
              "  /* fitted */\n",
              "  background: var(--sklearn-color-fitted-level-0);\n",
              "  border: var(--sklearn-color-fitted-level-3);\n",
              "}\n",
              "\n",
              ".sk-estimator-doc-link:hover span {\n",
              "  display: block;\n",
              "}\n",
              "\n",
              "/* \"?\"-specific style due to the `<a>` HTML tag */\n",
              "\n",
              "#sk-container-id-4 a.estimator_doc_link {\n",
              "  float: right;\n",
              "  font-size: 1rem;\n",
              "  line-height: 1em;\n",
              "  font-family: monospace;\n",
              "  background-color: var(--sklearn-color-background);\n",
              "  border-radius: 1rem;\n",
              "  height: 1rem;\n",
              "  width: 1rem;\n",
              "  text-decoration: none;\n",
              "  /* unfitted */\n",
              "  color: var(--sklearn-color-unfitted-level-1);\n",
              "  border: var(--sklearn-color-unfitted-level-1) 1pt solid;\n",
              "}\n",
              "\n",
              "#sk-container-id-4 a.estimator_doc_link.fitted {\n",
              "  /* fitted */\n",
              "  border: var(--sklearn-color-fitted-level-1) 1pt solid;\n",
              "  color: var(--sklearn-color-fitted-level-1);\n",
              "}\n",
              "\n",
              "/* On hover */\n",
              "#sk-container-id-4 a.estimator_doc_link:hover {\n",
              "  /* unfitted */\n",
              "  background-color: var(--sklearn-color-unfitted-level-3);\n",
              "  color: var(--sklearn-color-background);\n",
              "  text-decoration: none;\n",
              "}\n",
              "\n",
              "#sk-container-id-4 a.estimator_doc_link.fitted:hover {\n",
              "  /* fitted */\n",
              "  background-color: var(--sklearn-color-fitted-level-3);\n",
              "}\n",
              "</style><div id=\"sk-container-id-4\" class=\"sk-top-container\"><div class=\"sk-text-repr-fallback\"><pre>DecisionTreeClassifier(criterion=&#x27;entropy&#x27;, max_depth=3, random_state=0)</pre><b>In a Jupyter environment, please rerun this cell to show the HTML representation or trust the notebook. <br />On GitHub, the HTML representation is unable to render, please try loading this page with nbviewer.org.</b></div><div class=\"sk-container\" hidden><div class=\"sk-item\"><div class=\"sk-estimator fitted sk-toggleable\"><input class=\"sk-toggleable__control sk-hidden--visually\" id=\"sk-estimator-id-4\" type=\"checkbox\" checked><label for=\"sk-estimator-id-4\" class=\"sk-toggleable__label fitted sk-toggleable__label-arrow fitted\">&nbsp;&nbsp;DecisionTreeClassifier<a class=\"sk-estimator-doc-link fitted\" rel=\"noreferrer\" target=\"_blank\" href=\"https://scikit-learn.org/1.5/modules/generated/sklearn.tree.DecisionTreeClassifier.html\">?<span>Documentation for DecisionTreeClassifier</span></a><span class=\"sk-estimator-doc-link fitted\">i<span>Fitted</span></span></label><div class=\"sk-toggleable__content fitted\"><pre>DecisionTreeClassifier(criterion=&#x27;entropy&#x27;, max_depth=3, random_state=0)</pre></div> </div></div></div></div>"
            ]
          },
          "metadata": {},
          "execution_count": 48
        }
      ],
      "source": [
        "clf = DTC(criterion='entropy',\n",
        "          max_depth=3,\n",
        "          random_state=0)\n",
        "clf.fit(X, High)\n"
      ]
    },
    {
      "cell_type": "markdown",
      "id": "c8af7dd3",
      "metadata": {
        "id": "c8af7dd3"
      },
      "source": [
        "In our discussion of qualitative features in Section ~\\ref{ch3:sec3},\n",
        "we noted that for a linear regression model such a feature could be\n",
        "represented by including a matrix of dummy variables (one-hot-encoding) in the model matrix, using the formula notation of `statsmodels`.\n",
        "\n",
        "\n",
        "As mentioned in Section~\\ref{Ch8:decison.tree.sec}, there is a more\n",
        "natural way to handle qualitative features when building a decision\n",
        "tree, that does not require such dummy variables; each split amounts to partitioning the levels into two groups.\n",
        "However,\n",
        "the `sklearn` implementation of decision trees does not take\n",
        "advantage of this approach; instead it simply treats the one-hot-encoded levels as separate variables."
      ]
    },
    {
      "cell_type": "code",
      "execution_count": null,
      "id": "a0194963",
      "metadata": {
        "execution": {
          "iopub.execute_input": "2024-06-04T23:19:40.982399Z",
          "iopub.status.busy": "2024-06-04T23:19:40.982321Z",
          "iopub.status.idle": "2024-06-04T23:19:40.984527Z",
          "shell.execute_reply": "2024-06-04T23:19:40.984345Z"
        },
        "lines_to_next_cell": 2,
        "id": "a0194963",
        "outputId": "00c472d8-41c3-48b1-dbde-9fafdffa212e",
        "colab": {
          "base_uri": "https://localhost:8080/"
        }
      },
      "outputs": [
        {
          "output_type": "execute_result",
          "data": {
            "text/plain": [
              "0.79"
            ]
          },
          "metadata": {},
          "execution_count": 49
        }
      ],
      "source": [
        "accuracy_score(High, clf.predict(X))\n"
      ]
    },
    {
      "cell_type": "markdown",
      "id": "009ff8da",
      "metadata": {
        "id": "009ff8da"
      },
      "source": [
        "With only the default arguments, the training error rate is\n",
        "21%.\n",
        "For classification trees, we can\n",
        "access the value of the deviance using `log_loss()`,\n",
        "\\begin{equation*}\n",
        "\\begin{split}\n",
        "-2 \\sum_m \\sum_k n_{mk} \\log \\hat{p}_{mk},\n",
        "\\end{split}\n",
        "\\end{equation*}\n",
        "where $n_{mk}$ is the number of observations in the $m$th terminal\n",
        "node that belong to the $k$th class."
      ]
    },
    {
      "cell_type": "code",
      "execution_count": null,
      "id": "ef173e93",
      "metadata": {
        "execution": {
          "iopub.execute_input": "2024-06-04T23:19:40.985725Z",
          "iopub.status.busy": "2024-06-04T23:19:40.985647Z",
          "iopub.status.idle": "2024-06-04T23:19:40.988104Z",
          "shell.execute_reply": "2024-06-04T23:19:40.987929Z"
        },
        "id": "ef173e93",
        "outputId": "7cd95a47-913c-4668-dd06-a86aabc088bf",
        "colab": {
          "base_uri": "https://localhost:8080/"
        }
      },
      "outputs": [
        {
          "output_type": "execute_result",
          "data": {
            "text/plain": [
              "0.4710647062649358"
            ]
          },
          "metadata": {},
          "execution_count": 50
        }
      ],
      "source": [
        "resid_dev = np.sum(log_loss(High, clf.predict_proba(X)))\n",
        "resid_dev\n"
      ]
    },
    {
      "cell_type": "markdown",
      "id": "e88410fc",
      "metadata": {
        "id": "e88410fc"
      },
      "source": [
        "This is closely related to the *entropy*, defined in (\\ref{Ch8:eq:cross-entropy}).\n",
        "A small deviance indicates a\n",
        "tree that provides a good fit to the (training) data.\n",
        "\n",
        "One of the most attractive properties of trees is that they can\n",
        "be graphically displayed. Here we use the `plot()`  function\n",
        "to display the tree structure."
      ]
    },
    {
      "cell_type": "code",
      "execution_count": null,
      "id": "06cd42f6",
      "metadata": {
        "execution": {
          "iopub.execute_input": "2024-06-04T23:19:40.989180Z",
          "iopub.status.busy": "2024-06-04T23:19:40.989116Z",
          "iopub.status.idle": "2024-06-04T23:19:41.199225Z",
          "shell.execute_reply": "2024-06-04T23:19:41.198700Z"
        },
        "lines_to_next_cell": 0,
        "id": "06cd42f6",
        "outputId": "acdf401c-f7ab-4c07-cd78-832f8ed8d981",
        "colab": {
          "base_uri": "https://localhost:8080/",
          "height": 961
        }
      },
      "outputs": [
        {
          "output_type": "display_data",
          "data": {
            "text/plain": [
              "<Figure size 1200x1200 with 1 Axes>"
            ],
            "image/png": "[encoded data removed]"
          },
          "metadata": {}
        }
      ],
      "source": [
        "ax = subplots(figsize=(12,12))[1]\n",
        "plot_tree(clf,\n",
        "          feature_names=feature_names,\n",
        "          ax=ax);\n"
      ]
    },
    {
      "cell_type": "markdown",
      "id": "9df3c06d",
      "metadata": {
        "id": "9df3c06d"
      },
      "source": [
        "The most important indicator of `Sales` appears to be `ShelveLoc`.\n",
        "\n",
        "We can see a text representation of the tree using\n",
        "`export_text()`, which displays the split\n",
        "criterion (e.g. `Price <= 92.5`) for each branch.\n",
        "For leaf nodes it shows the overall prediction  \n",
        "(`Yes` or `No`).\n",
        " We can also see the number of observations in that\n",
        "leaf that take on values of `Yes` and `No` by specifying  `show_weights=True`."
      ]
    },
    {
      "cell_type": "code",
      "execution_count": null,
      "id": "b6812ee3",
      "metadata": {
        "execution": {
          "iopub.execute_input": "2024-06-04T23:19:41.202511Z",
          "iopub.status.busy": "2024-06-04T23:19:41.202113Z",
          "iopub.status.idle": "2024-06-04T23:19:41.207460Z",
          "shell.execute_reply": "2024-06-04T23:19:41.206250Z"
        },
        "id": "b6812ee3",
        "outputId": "902010c3-1e84-4cb2-e5fb-cbf2ef230c65",
        "colab": {
          "base_uri": "https://localhost:8080/"
        }
      },
      "outputs": [
        {
          "output_type": "stream",
          "name": "stdout",
          "text": [
            "|--- ShelveLoc[Good] <= 0.50\n",
            "|   |--- Price <= 92.50\n",
            "|   |   |--- Income <= 57.00\n",
            "|   |   |   |--- weights: [7.00, 3.00] class: No\n",
            "|   |   |--- Income >  57.00\n",
            "|   |   |   |--- weights: [7.00, 29.00] class: Yes\n",
            "|   |--- Price >  92.50\n",
            "|   |   |--- Advertising <= 13.50\n",
            "|   |   |   |--- weights: [183.00, 41.00] class: No\n",
            "|   |   |--- Advertising >  13.50\n",
            "|   |   |   |--- weights: [20.00, 25.00] class: Yes\n",
            "|--- ShelveLoc[Good] >  0.50\n",
            "|   |--- Price <= 135.00\n",
            "|   |   |--- US[Yes] <= 0.50\n",
            "|   |   |   |--- weights: [6.00, 11.00] class: Yes\n",
            "|   |   |--- US[Yes] >  0.50\n",
            "|   |   |   |--- weights: [2.00, 49.00] class: Yes\n",
            "|   |--- Price >  135.00\n",
            "|   |   |--- Income <= 46.00\n",
            "|   |   |   |--- weights: [6.00, 0.00] class: No\n",
            "|   |   |--- Income >  46.00\n",
            "|   |   |   |--- weights: [5.00, 6.00] class: Yes\n",
            "\n"
          ]
        }
      ],
      "source": [
        "print(export_text(clf,\n",
        "                  feature_names=feature_names,\n",
        "                  show_weights=True))\n"
      ]
    },
    {
      "cell_type": "markdown",
      "id": "182468a0",
      "metadata": {
        "id": "182468a0"
      },
      "source": [
        "In order to properly evaluate the performance of a classification tree\n",
        "on these data, we must estimate the test error rather than simply\n",
        "computing the training error. We split the observations into a\n",
        "training set and a test set, build the tree using the training set,\n",
        "and evaluate its performance on the test data. This pattern is\n",
        "similar to that in Chapter~\\ref{Ch6:varselect}, with the linear models\n",
        "replaced here by decision trees --- the code for validation\n",
        "is almost identical. This approach leads to correct predictions\n",
        "for 68.5% of the locations in the test data set."
      ]
    },
    {
      "cell_type": "code",
      "execution_count": null,
      "id": "7c731ea6",
      "metadata": {
        "execution": {
          "iopub.execute_input": "2024-06-04T23:19:41.210453Z",
          "iopub.status.busy": "2024-06-04T23:19:41.210211Z",
          "iopub.status.idle": "2024-06-04T23:19:41.223833Z",
          "shell.execute_reply": "2024-06-04T23:19:41.223373Z"
        },
        "lines_to_next_cell": 0,
        "id": "7c731ea6",
        "outputId": "5426d885-5f8d-42d5-c89c-cdd2d41368ff",
        "colab": {
          "base_uri": "https://localhost:8080/"
        }
      },
      "outputs": [
        {
          "output_type": "execute_result",
          "data": {
            "text/plain": [
              "array([0.685])"
            ]
          },
          "metadata": {},
          "execution_count": 53
        }
      ],
      "source": [
        "validation = skm.ShuffleSplit(n_splits=1,\n",
        "                              test_size=200,\n",
        "                              random_state=0)\n",
        "results = skm.cross_validate(clf,\n",
        "                             D,\n",
        "                             High,\n",
        "                             cv=validation)\n",
        "results['test_score']\n"
      ]
    },
    {
      "cell_type": "markdown",
      "id": "cedd6092",
      "metadata": {
        "id": "cedd6092"
      },
      "source": [
        "    "
      ]
    },
    {
      "cell_type": "markdown",
      "id": "20619b1d",
      "metadata": {
        "id": "20619b1d"
      },
      "source": [
        "Next, we consider whether pruning the tree might lead to improved\n",
        "classification performance. We first split the data into a training and\n",
        "test set. We will use cross-validation to prune the tree on the training\n",
        "set, and then evaluate the performance of the pruned tree on the test\n",
        "set."
      ]
    },
    {
      "cell_type": "code",
      "execution_count": null,
      "id": "84680f6a",
      "metadata": {
        "execution": {
          "iopub.execute_input": "2024-06-04T23:19:41.227054Z",
          "iopub.status.busy": "2024-06-04T23:19:41.226781Z",
          "iopub.status.idle": "2024-06-04T23:19:41.230834Z",
          "shell.execute_reply": "2024-06-04T23:19:41.230042Z"
        },
        "lines_to_next_cell": 0,
        "id": "84680f6a"
      },
      "outputs": [],
      "source": [
        "(X_train,\n",
        " X_test,\n",
        " High_train,\n",
        " High_test) = skm.train_test_split(X,\n",
        "                                   High,\n",
        "                                   test_size=0.5,\n",
        "                                   random_state=0)\n"
      ]
    },
    {
      "cell_type": "markdown",
      "id": "76c4fd1f",
      "metadata": {
        "id": "76c4fd1f"
      },
      "source": [
        "We first refit the full tree on the training set; here we do not set a `max_depth` parameter, since we will learn that through cross-validation.\n"
      ]
    },
    {
      "cell_type": "markdown",
      "source": [
        "![image.png](data:image/png;base64,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)"
      ],
      "metadata": {
        "id": "tqKz5WlOg8tD"
      },
      "id": "tqKz5WlOg8tD"
    },
    {
      "cell_type": "code",
      "execution_count": null,
      "id": "1c5dbf1d",
      "metadata": {
        "execution": {
          "iopub.execute_input": "2024-06-04T23:19:41.233920Z",
          "iopub.status.busy": "2024-06-04T23:19:41.233718Z",
          "iopub.status.idle": "2024-06-04T23:19:41.243506Z",
          "shell.execute_reply": "2024-06-04T23:19:41.242998Z"
        },
        "lines_to_next_cell": 0,
        "id": "1c5dbf1d",
        "outputId": "28f9d0e9-026e-405c-a82d-0176698a9bd5",
        "colab": {
          "base_uri": "https://localhost:8080/"
        }
      },
      "outputs": [
        {
          "output_type": "execute_result",
          "data": {
            "text/plain": [
              "0.735"
            ]
          },
          "metadata": {},
          "execution_count": 55
        }
      ],
      "source": [
        "clf = DTC(criterion='entropy', random_state=0)\n",
        "clf.fit(X_train, High_train)\n",
        "accuracy_score(High_test, clf.predict(X_test))\n"
      ]
    },
    {
      "cell_type": "markdown",
      "id": "4b93ca55",
      "metadata": {
        "id": "4b93ca55"
      },
      "source": [
        "Next we use the `cost_complexity_pruning_path()` method of\n",
        "`clf` to extract cost-complexity values."
      ]
    },
    {
      "cell_type": "code",
      "execution_count": null,
      "id": "8cf23460",
      "metadata": {
        "execution": {
          "iopub.execute_input": "2024-06-04T23:19:41.246374Z",
          "iopub.status.busy": "2024-06-04T23:19:41.246047Z",
          "iopub.status.idle": "2024-06-04T23:19:41.251681Z",
          "shell.execute_reply": "2024-06-04T23:19:41.251155Z"
        },
        "lines_to_next_cell": 0,
        "id": "8cf23460"
      },
      "outputs": [],
      "source": [
        "ccp_path = clf.cost_complexity_pruning_path(X_train, High_train)\n",
        "kfold = skm.KFold(10,\n",
        "                  random_state=1,\n",
        "                  shuffle=True)\n"
      ]
    },
    {
      "cell_type": "code",
      "source": [
        "ccp_path"
      ],
      "metadata": {
        "colab": {
          "base_uri": "https://localhost:8080/"
        },
        "id": "WyInY79dhPKN",
        "outputId": "d24ccd8a-e086-4706-a44c-3e385a4403d0"
      },
      "id": "WyInY79dhPKN",
      "execution_count": null,
      "outputs": [
        {
          "output_type": "execute_result",
          "data": {
            "text/plain": [
              "{'ccp_alphas': array([ 0.        ,  1.6156522 ,  1.88662474,  3.40178969,  4.17448592,\n",
              "         8.29259286, 12.98252736, 39.79182618]),\n",
              " 'impurities': array([12.61901452, 14.23466673, 16.12129147, 19.52308115, 23.69756707,\n",
              "        31.99015993, 44.97268729, 84.76451347])}"
            ]
          },
          "metadata": {},
          "execution_count": 77
        }
      ]
    },
    {
      "cell_type": "markdown",
      "id": "b58875f7",
      "metadata": {
        "id": "b58875f7"
      },
      "source": [
        "This yields a set of impurities and $\\alpha$ values\n",
        "from which we can extract an optimal one by cross-validation."
      ]
    },
    {
      "cell_type": "code",
      "execution_count": null,
      "id": "62abb2be",
      "metadata": {
        "execution": {
          "iopub.execute_input": "2024-06-04T23:19:41.255029Z",
          "iopub.status.busy": "2024-06-04T23:19:41.254557Z",
          "iopub.status.idle": "2024-06-04T23:19:41.484614Z",
          "shell.execute_reply": "2024-06-04T23:19:41.484364Z"
        },
        "lines_to_next_cell": 0,
        "id": "62abb2be",
        "outputId": "dacb6c9e-7225-43f7-88b5-f3e5a030294f",
        "colab": {
          "base_uri": "https://localhost:8080/"
        }
      },
      "outputs": [
        {
          "output_type": "execute_result",
          "data": {
            "text/plain": [
              "0.685"
            ]
          },
          "metadata": {},
          "execution_count": 57
        }
      ],
      "source": [
        "grid = skm.GridSearchCV(clf,\n",
        "                        {'ccp_alpha': ccp_path.ccp_alphas},\n",
        "                        refit=True,\n",
        "                        cv=kfold,\n",
        "                        scoring='accuracy')\n",
        "grid.fit(X_train, High_train)\n",
        "grid.best_score_\n"
      ]
    },
    {
      "cell_type": "markdown",
      "id": "0787b680",
      "metadata": {
        "id": "0787b680"
      },
      "source": [
        "Let’s take a look at the pruned true."
      ]
    },
    {
      "cell_type": "code",
      "execution_count": null,
      "id": "8311d318",
      "metadata": {
        "execution": {
          "iopub.execute_input": "2024-06-04T23:19:41.485939Z",
          "iopub.status.busy": "2024-06-04T23:19:41.485856Z",
          "iopub.status.idle": "2024-06-04T23:19:41.957648Z",
          "shell.execute_reply": "2024-06-04T23:19:41.957387Z"
        },
        "lines_to_next_cell": 0,
        "id": "8311d318",
        "outputId": "1c5ddcc8-5c04-4497-cd2d-39488ce6cb29",
        "colab": {
          "base_uri": "https://localhost:8080/",
          "height": 961
        }
      },
      "outputs": [
        {
          "output_type": "display_data",
          "data": {
            "text/plain": [
              "<Figure size 1200x1200 with 1 Axes>"
            ],
            "image/png": "[encoded data removed]"
          },
          "metadata": {}
        }
      ],
      "source": [
        "ax = subplots(figsize=(12, 12))[1]\n",
        "best_ = grid.best_estimator_\n",
        "plot_tree(best_,\n",
        "          feature_names=feature_names,\n",
        "          ax=ax);\n"
      ]
    },
    {
      "cell_type": "markdown",
      "id": "09d16ee7",
      "metadata": {
        "id": "09d16ee7"
      },
      "source": [
        "This is quite a bushy tree. We could count the leaves, or query\n",
        "`best_` instead."
      ]
    },
    {
      "cell_type": "code",
      "execution_count": null,
      "id": "36d1cd8f",
      "metadata": {
        "execution": {
          "iopub.execute_input": "2024-06-04T23:19:41.959153Z",
          "iopub.status.busy": "2024-06-04T23:19:41.959051Z",
          "iopub.status.idle": "2024-06-04T23:19:41.961196Z",
          "shell.execute_reply": "2024-06-04T23:19:41.960938Z"
        },
        "lines_to_next_cell": 0,
        "id": "36d1cd8f",
        "outputId": "8d8caa1b-e46f-4a29-c52d-823c80a6db92",
        "colab": {
          "base_uri": "https://localhost:8080/"
        }
      },
      "outputs": [
        {
          "output_type": "execute_result",
          "data": {
            "text/plain": [
              "30"
            ]
          },
          "metadata": {},
          "execution_count": 59
        }
      ],
      "source": [
        "best_.tree_.n_leaves\n"
      ]
    },
    {
      "cell_type": "markdown",
      "id": "51e45fff",
      "metadata": {
        "id": "51e45fff"
      },
      "source": [
        "The tree with 30 terminal\n",
        "nodes results in the lowest cross-validation error rate, with an accuracy of\n",
        "68.5%. How well does this pruned tree perform on the test data set? Once\n",
        "again, we apply the `predict()`  function."
      ]
    },
    {
      "cell_type": "code",
      "execution_count": null,
      "id": "f0f7bd8c",
      "metadata": {
        "execution": {
          "iopub.execute_input": "2024-06-04T23:19:41.962629Z",
          "iopub.status.busy": "2024-06-04T23:19:41.962538Z",
          "iopub.status.idle": "2024-06-04T23:19:41.967670Z",
          "shell.execute_reply": "2024-06-04T23:19:41.967362Z"
        },
        "lines_to_next_cell": 2,
        "id": "f0f7bd8c",
        "outputId": "0085b261-dc66-4974-b086-87db7538bb87",
        "colab": {
          "base_uri": "https://localhost:8080/",
          "height": 161
        }
      },
      "outputs": [
        {
          "output_type": "stream",
          "name": "stdout",
          "text": [
            "0.72\n"
          ]
        },
        {
          "output_type": "execute_result",
          "data": {
            "text/plain": [
              "Truth      No  Yes\n",
              "Predicted         \n",
              "No         94   32\n",
              "Yes        24   50"
            ],
            "text/html": [
              "\n",
              "  <div id=\"df-4f951c8e-1d7d-4155-9d8c-dcb35daaba4b\" class=\"colab-df-container\">\n",
              "    <div>\n",
              "<style scoped>\n",
              "    .dataframe tbody tr th:only-of-type {\n",
              "        vertical-align: middle;\n",
              "    }\n",
              "\n",
              "    .dataframe tbody tr th {\n",
              "        vertical-align: top;\n",
              "    }\n",
              "\n",
              "    .dataframe thead th {\n",
              "        text-align: right;\n",
              "    }\n",
              "</style>\n",
              "<table border=\"1\" class=\"dataframe\">\n",
              "  <thead>\n",
              "    <tr style=\"text-align: right;\">\n",
              "      <th>Truth</th>\n",
              "      <th>No</th>\n",
              "      <th>Yes</th>\n",
              "    </tr>\n",
              "    <tr>\n",
              "      <th>Predicted</th>\n",
              "      <th></th>\n",
              "      <th></th>\n",
              "    </tr>\n",
              "  </thead>\n",
              "  <tbody>\n",
              "    <tr>\n",
              "      <th>No</th>\n",
              "      <td>94</td>\n",
              "      <td>32</td>\n",
              "    </tr>\n",
              "    <tr>\n",
              "      <th>Yes</th>\n",
              "      <td>24</td>\n",
              "      <td>50</td>\n",
              "    </tr>\n",
              "  </tbody>\n",
              "</table>\n",
              "</div>\n",
              "    <div class=\"colab-df-buttons\">\n",
              "\n",
              "  <div class=\"colab-df-container\">\n",
              "    <button class=\"colab-df-convert\" onclick=\"convertToInteractive('df-4f951c8e-1d7d-4155-9d8c-dcb35daaba4b')\"\n",
              "            title=\"Convert this dataframe to an interactive table.\"\n",
              "            style=\"display:none;\">\n",
              "\n",
              "  <svg xmlns=\"http://www.w3.org/2000/svg\" height=\"24px\" viewBox=\"0 -960 960 960\">\n",
              "    <path d=\"M120-120v-720h720v720H120Zm60-500h600v-160H180v160Zm220 220h160v-160H400v160Zm0 220h160v-160H400v160ZM180-400h160v-160H180v160Zm440 0h160v-160H620v160ZM180-180h160v-160H180v160Zm440 0h160v-160H620v160Z\"/>\n",
              "  </svg>\n",
              "    </button>\n",
              "\n",
              "  <style>\n",
              "    .colab-df-container {\n",
              "      display:flex;\n",
              "      gap: 12px;\n",
              "    }\n",
              "\n",
              "    .colab-df-convert {\n",
              "      background-color: #E8F0FE;\n",
              "      border: none;\n",
              "      border-radius: 50%;\n",
              "      cursor: pointer;\n",
              "      display: none;\n",
              "      fill: #1967D2;\n",
              "      height: 32px;\n",
              "      padding: 0 0 0 0;\n",
              "      width: 32px;\n",
              "    }\n",
              "\n",
              "    .colab-df-convert:hover {\n",
              "      background-color: #E2EBFA;\n",
              "      box-shadow: 0px 1px 2px rgba(60, 64, 67, 0.3), 0px 1px 3px 1px rgba(60, 64, 67, 0.15);\n",
              "      fill: #174EA6;\n",
              "    }\n",
              "\n",
              "    .colab-df-buttons div {\n",
              "      margin-bottom: 4px;\n",
              "    }\n",
              "\n",
              "    [theme=dark] .colab-df-convert {\n",
              "      background-color: #3B4455;\n",
              "      fill: #D2E3FC;\n",
              "    }\n",
              "\n",
              "    [theme=dark] .colab-df-convert:hover {\n",
              "      background-color: #434B5C;\n",
              "      box-shadow: 0px 1px 3px 1px rgba(0, 0, 0, 0.15);\n",
              "      filter: drop-shadow(0px 1px 2px rgba(0, 0, 0, 0.3));\n",
              "      fill: #FFFFFF;\n",
              "    }\n",
              "  </style>\n",
              "\n",
              "    <script>\n",
              "      const buttonEl =\n",
              "        document.querySelector('#df-4f951c8e-1d7d-4155-9d8c-dcb35daaba4b button.colab-df-convert');\n",
              "      buttonEl.style.display =\n",
              "        google.colab.kernel.accessAllowed ? 'block' : 'none';\n",
              "\n",
              "      async function convertToInteractive(key) {\n",
              "        const element = document.querySelector('#df-4f951c8e-1d7d-4155-9d8c-dcb35daaba4b');\n",
              "        const dataTable =\n",
              "          await google.colab.kernel.invokeFunction('convertToInteractive',\n",
              "                                                    [key], {});\n",
              "        if (!dataTable) return;\n",
              "\n",
              "        const docLinkHtml = 'Like what you see? Visit the ' +\n",
              "          '<a target=\"_blank\" href=https://colab.research.google.com/notebooks/data_table.ipynb>data table notebook</a>'\n",
              "          + ' to learn more about interactive tables.';\n",
              "        element.innerHTML = '';\n",
              "        dataTable['output_type'] = 'display_data';\n",
              "        await google.colab.output.renderOutput(dataTable, element);\n",
              "        const docLink = document.createElement('div');\n",
              "        docLink.innerHTML = docLinkHtml;\n",
              "        element.appendChild(docLink);\n",
              "      }\n",
              "    </script>\n",
              "  </div>\n",
              "\n",
              "\n",
              "<div id=\"df-5f67ac86-b626-4f27-9b41-1377ed562bac\">\n",
              "  <button class=\"colab-df-quickchart\" onclick=\"quickchart('df-5f67ac86-b626-4f27-9b41-1377ed562bac')\"\n",
              "            title=\"Suggest charts\"\n",
              "            style=\"display:none;\">\n",
              "\n",
              "<svg xmlns=\"http://www.w3.org/2000/svg\" height=\"24px\"viewBox=\"0 0 24 24\"\n",
              "     width=\"24px\">\n",
              "    <g>\n",
              "        <path d=\"M19 3H5c-1.1 0-2 .9-2 2v14c0 1.1.9 2 2 2h14c1.1 0 2-.9 2-2V5c0-1.1-.9-2-2-2zM9 17H7v-7h2v7zm4 0h-2V7h2v10zm4 0h-2v-4h2v4z\"/>\n",
              "    </g>\n",
              "</svg>\n",
              "  </button>\n",
              "\n",
              "<style>\n",
              "  .colab-df-quickchart {\n",
              "      --bg-color: #E8F0FE;\n",
              "      --fill-color: #1967D2;\n",
              "      --hover-bg-color: #E2EBFA;\n",
              "      --hover-fill-color: #174EA6;\n",
              "      --disabled-fill-color: #AAA;\n",
              "      --disabled-bg-color: #DDD;\n",
              "  }\n",
              "\n",
              "  [theme=dark] .colab-df-quickchart {\n",
              "      --bg-color: #3B4455;\n",
              "      --fill-color: #D2E3FC;\n",
              "      --hover-bg-color: #434B5C;\n",
              "      --hover-fill-color: #FFFFFF;\n",
              "      --disabled-bg-color: #3B4455;\n",
              "      --disabled-fill-color: #666;\n",
              "  }\n",
              "\n",
              "  .colab-df-quickchart {\n",
              "    background-color: var(--bg-color);\n",
              "    border: none;\n",
              "    border-radius: 50%;\n",
              "    cursor: pointer;\n",
              "    display: none;\n",
              "    fill: var(--fill-color);\n",
              "    height: 32px;\n",
              "    padding: 0;\n",
              "    width: 32px;\n",
              "  }\n",
              "\n",
              "  .colab-df-quickchart:hover {\n",
              "    background-color: var(--hover-bg-color);\n",
              "    box-shadow: 0 1px 2px rgba(60, 64, 67, 0.3), 0 1px 3px 1px rgba(60, 64, 67, 0.15);\n",
              "    fill: var(--button-hover-fill-color);\n",
              "  }\n",
              "\n",
              "  .colab-df-quickchart-complete:disabled,\n",
              "  .colab-df-quickchart-complete:disabled:hover {\n",
              "    background-color: var(--disabled-bg-color);\n",
              "    fill: var(--disabled-fill-color);\n",
              "    box-shadow: none;\n",
              "  }\n",
              "\n",
              "  .colab-df-spinner {\n",
              "    border: 2px solid var(--fill-color);\n",
              "    border-color: transparent;\n",
              "    border-bottom-color: var(--fill-color);\n",
              "    animation:\n",
              "      spin 1s steps(1) infinite;\n",
              "  }\n",
              "\n",
              "  @keyframes spin {\n",
              "    0% {\n",
              "      border-color: transparent;\n",
              "      border-bottom-color: var(--fill-color);\n",
              "      border-left-color: var(--fill-color);\n",
              "    }\n",
              "    20% {\n",
              "      border-color: transparent;\n",
              "      border-left-color: var(--fill-color);\n",
              "      border-top-color: var(--fill-color);\n",
              "    }\n",
              "    30% {\n",
              "      border-color: transparent;\n",
              "      border-left-color: var(--fill-color);\n",
              "      border-top-color: var(--fill-color);\n",
              "      border-right-color: var(--fill-color);\n",
              "    }\n",
              "    40% {\n",
              "      border-color: transparent;\n",
              "      border-right-color: var(--fill-color);\n",
              "      border-top-color: var(--fill-color);\n",
              "    }\n",
              "    60% {\n",
              "      border-color: transparent;\n",
              "      border-right-color: var(--fill-color);\n",
              "    }\n",
              "    80% {\n",
              "      border-color: transparent;\n",
              "      border-right-color: var(--fill-color);\n",
              "      border-bottom-color: var(--fill-color);\n",
              "    }\n",
              "    90% {\n",
              "      border-color: transparent;\n",
              "      border-bottom-color: var(--fill-color);\n",
              "    }\n",
              "  }\n",
              "</style>\n",
              "\n",
              "  <script>\n",
              "    async function quickchart(key) {\n",
              "      const quickchartButtonEl =\n",
              "        document.querySelector('#' + key + ' button');\n",
              "      quickchartButtonEl.disabled = true;  // To prevent multiple clicks.\n",
              "      quickchartButtonEl.classList.add('colab-df-spinner');\n",
              "      try {\n",
              "        const charts = await google.colab.kernel.invokeFunction(\n",
              "            'suggestCharts', [key], {});\n",
              "      } catch (error) {\n",
              "        console.error('Error during call to suggestCharts:', error);\n",
              "      }\n",
              "      quickchartButtonEl.classList.remove('colab-df-spinner');\n",
              "      quickchartButtonEl.classList.add('colab-df-quickchart-complete');\n",
              "    }\n",
              "    (() => {\n",
              "      let quickchartButtonEl =\n",
              "        document.querySelector('#df-5f67ac86-b626-4f27-9b41-1377ed562bac button');\n",
              "      quickchartButtonEl.style.display =\n",
              "        google.colab.kernel.accessAllowed ? 'block' : 'none';\n",
              "    })();\n",
              "  </script>\n",
              "</div>\n",
              "\n",
              "  <div id=\"id_ee9ca2d3-16ac-414a-ab9e-7658db6ea8ac\">\n",
              "    <style>\n",
              "      .colab-df-generate {\n",
              "        background-color: #E8F0FE;\n",
              "        border: none;\n",
              "        border-radius: 50%;\n",
              "        cursor: pointer;\n",
              "        display: none;\n",
              "        fill: #1967D2;\n",
              "        height: 32px;\n",
              "        padding: 0 0 0 0;\n",
              "        width: 32px;\n",
              "      }\n",
              "\n",
              "      .colab-df-generate:hover {\n",
              "        background-color: #E2EBFA;\n",
              "        box-shadow: 0px 1px 2px rgba(60, 64, 67, 0.3), 0px 1px 3px 1px rgba(60, 64, 67, 0.15);\n",
              "        fill: #174EA6;\n",
              "      }\n",
              "\n",
              "      [theme=dark] .colab-df-generate {\n",
              "        background-color: #3B4455;\n",
              "        fill: #D2E3FC;\n",
              "      }\n",
              "\n",
              "      [theme=dark] .colab-df-generate:hover {\n",
              "        background-color: #434B5C;\n",
              "        box-shadow: 0px 1px 3px 1px rgba(0, 0, 0, 0.15);\n",
              "        filter: drop-shadow(0px 1px 2px rgba(0, 0, 0, 0.3));\n",
              "        fill: #FFFFFF;\n",
              "      }\n",
              "    </style>\n",
              "    <button class=\"colab-df-generate\" onclick=\"generateWithVariable('confusion')\"\n",
              "            title=\"Generate code using this dataframe.\"\n",
              "            style=\"display:none;\">\n",
              "\n",
              "  <svg xmlns=\"http://www.w3.org/2000/svg\" height=\"24px\"viewBox=\"0 0 24 24\"\n",
              "       width=\"24px\">\n",
              "    <path d=\"M7,19H8.4L18.45,9,17,7.55,7,17.6ZM5,21V16.75L18.45,3.32a2,2,0,0,1,2.83,0l1.4,1.43a1.91,1.91,0,0,1,.58,1.4,1.91,1.91,0,0,1-.58,1.4L9.25,21ZM18.45,9,17,7.55Zm-12,3A5.31,5.31,0,0,0,4.9,8.1,5.31,5.31,0,0,0,1,6.5,5.31,5.31,0,0,0,4.9,4.9,5.31,5.31,0,0,0,6.5,1,5.31,5.31,0,0,0,8.1,4.9,5.31,5.31,0,0,0,12,6.5,5.46,5.46,0,0,0,6.5,12Z\"/>\n",
              "  </svg>\n",
              "    </button>\n",
              "    <script>\n",
              "      (() => {\n",
              "      const buttonEl =\n",
              "        document.querySelector('#id_ee9ca2d3-16ac-414a-ab9e-7658db6ea8ac button.colab-df-generate');\n",
              "      buttonEl.style.display =\n",
              "        google.colab.kernel.accessAllowed ? 'block' : 'none';\n",
              "\n",
              "      buttonEl.onclick = () => {\n",
              "        google.colab.notebook.generateWithVariable('confusion');\n",
              "      }\n",
              "      })();\n",
              "    </script>\n",
              "  </div>\n",
              "\n",
              "    </div>\n",
              "  </div>\n"
            ],
            "application/vnd.google.colaboratory.intrinsic+json": {
              "type": "dataframe",
              "variable_name": "confusion",
              "summary": "{\n  \"name\": \"confusion\",\n  \"rows\": 2,\n  \"fields\": [\n    {\n      \"column\": \"Predicted\",\n      \"properties\": {\n        \"dtype\": \"string\",\n        \"num_unique_values\": 2,\n        \"samples\": [\n          \"Yes\",\n          \"No\"\n        ],\n        \"semantic_type\": \"\",\n        \"description\": \"\"\n      }\n    },\n    {\n      \"column\": \"No\",\n      \"properties\": {\n        \"dtype\": \"number\",\n        \"std\": 49,\n        \"min\": 24,\n        \"max\": 94,\n        \"num_unique_values\": 2,\n        \"samples\": [\n          24,\n          94\n        ],\n        \"semantic_type\": \"\",\n        \"description\": \"\"\n      }\n    },\n    {\n      \"column\": \"Yes\",\n      \"properties\": {\n        \"dtype\": \"number\",\n        \"std\": 12,\n        \"min\": 32,\n        \"max\": 50,\n        \"num_unique_values\": 2,\n        \"samples\": [\n          50,\n          32\n        ],\n        \"semantic_type\": \"\",\n        \"description\": \"\"\n      }\n    }\n  ]\n}"
            }
          },
          "metadata": {},
          "execution_count": 60
        }
      ],
      "source": [
        "print(accuracy_score(High_test,\n",
        "                     best_.predict(X_test)))\n",
        "confusion = confusion_table(best_.predict(X_test),\n",
        "                            High_test)\n",
        "confusion\n"
      ]
    },
    {
      "cell_type": "markdown",
      "id": "a0b68fdb",
      "metadata": {
        "id": "a0b68fdb"
      },
      "source": [
        "Now 72.0% of the test observations are correctly classified, which is slightly worse than the error for the full tree (with 35 leaves). So cross-validation has not helped us much here; it only pruned off 5 leaves, at a cost of a slightly worse error. These results would change if we were to change the random number seeds above; even though cross-validation gives an unbiased approach to model selection, it does have variance.\n",
        "\n",
        "  "
      ]
    },
    {
      "cell_type": "markdown",
      "id": "ef41e25e",
      "metadata": {
        "id": "ef41e25e"
      },
      "source": [
        "## Fitting Regression Trees\n",
        "Here we fit a regression tree to the  `Boston`  data set. The\n",
        "steps are similar to those for classification trees."
      ]
    },
    {
      "cell_type": "code",
      "execution_count": null,
      "id": "663d8cba",
      "metadata": {
        "execution": {
          "iopub.execute_input": "2024-06-04T23:19:41.969083Z",
          "iopub.status.busy": "2024-06-04T23:19:41.969008Z",
          "iopub.status.idle": "2024-06-04T23:19:41.977175Z",
          "shell.execute_reply": "2024-06-04T23:19:41.976947Z"
        },
        "id": "663d8cba"
      },
      "outputs": [],
      "source": [
        "Boston = load_data(\"Boston\")\n",
        "model = MS(Boston.columns.drop('medv'), intercept=False)\n",
        "D = model.fit_transform(Boston)\n",
        "feature_names = list(D.columns)\n",
        "X = np.asarray(D)\n"
      ]
    },
    {
      "cell_type": "markdown",
      "id": "7af68d35",
      "metadata": {
        "id": "7af68d35"
      },
      "source": [
        "First, we split the data into training and test sets, and fit the tree\n",
        "to the training data. Here we use 30% of the data for the test set.\n"
      ]
    },
    {
      "cell_type": "code",
      "execution_count": null,
      "id": "e2f6482c",
      "metadata": {
        "execution": {
          "iopub.execute_input": "2024-06-04T23:19:41.978554Z",
          "iopub.status.busy": "2024-06-04T23:19:41.978483Z",
          "iopub.status.idle": "2024-06-04T23:19:41.980648Z",
          "shell.execute_reply": "2024-06-04T23:19:41.980414Z"
        },
        "id": "e2f6482c"
      },
      "outputs": [],
      "source": [
        "(X_train,\n",
        " X_test,\n",
        " y_train,\n",
        " y_test) = skm.train_test_split(X,\n",
        "                                Boston['medv'],\n",
        "                                test_size=0.3,\n",
        "                                random_state=0)\n"
      ]
    },
    {
      "cell_type": "markdown",
      "id": "2b25455d",
      "metadata": {
        "id": "2b25455d"
      },
      "source": [
        "Having formed  our training  and test data sets, we fit the regression tree."
      ]
    },
    {
      "cell_type": "code",
      "execution_count": null,
      "id": "55ff65dd",
      "metadata": {
        "execution": {
          "iopub.execute_input": "2024-06-04T23:19:41.981863Z",
          "iopub.status.busy": "2024-06-04T23:19:41.981787Z",
          "iopub.status.idle": "2024-06-04T23:19:42.157435Z",
          "shell.execute_reply": "2024-06-04T23:19:42.157194Z"
        },
        "id": "55ff65dd",
        "outputId": "7e21149e-3ed4-4c9f-f352-c9cd5c0ca8b6",
        "colab": {
          "base_uri": "https://localhost:8080/",
          "height": 961
        }
      },
      "outputs": [
        {
          "output_type": "display_data",
          "data": {
            "text/plain": [
              "<Figure size 1200x1200 with 1 Axes>"
            ],
            "image/png": "[encoded data removed]"
          },
          "metadata": {}
        }
      ],
      "source": [
        "reg = DTR(max_depth=3)\n",
        "reg.fit(X_train, y_train)\n",
        "ax = subplots(figsize=(12,12))[1]\n",
        "plot_tree(reg,\n",
        "          feature_names=feature_names,\n",
        "          ax=ax);\n"
      ]
    },
    {
      "cell_type": "markdown",
      "id": "c198059a",
      "metadata": {
        "id": "c198059a"
      },
      "source": [
        "The variable `lstat` measures the percentage of individuals with\n",
        "lower socioeconomic status. The tree indicates that lower\n",
        "values of `lstat` correspond to more expensive houses.\n",
        "The tree predicts a median house price of $12,042 for small-sized homes (`rm < 6.8`), in\n",
        "suburbs in which residents have low socioeconomic status (`lstat  > 14.4`) and the crime-rate is moderate (`crim > 5.8`)."
      ]
    },
    {
      "cell_type": "markdown",
      "id": "6448ca9c",
      "metadata": {
        "id": "6448ca9c"
      },
      "source": [
        "Now we use the cross-validation function to see whether pruning\n",
        "the tree will improve performance."
      ]
    },
    {
      "cell_type": "code",
      "execution_count": null,
      "id": "681b183e",
      "metadata": {
        "execution": {
          "iopub.execute_input": "2024-06-04T23:19:42.158836Z",
          "iopub.status.busy": "2024-06-04T23:19:42.158742Z",
          "iopub.status.idle": "2024-06-04T23:19:42.194904Z",
          "shell.execute_reply": "2024-06-04T23:19:42.194697Z"
        },
        "id": "681b183e"
      },
      "outputs": [],
      "source": [
        "ccp_path = reg.cost_complexity_pruning_path(X_train, y_train)\n",
        "kfold = skm.KFold(5,\n",
        "                  shuffle=True,\n",
        "                  random_state=10)\n",
        "grid = skm.GridSearchCV(reg,\n",
        "                        {'ccp_alpha': ccp_path.ccp_alphas},\n",
        "                        refit=True,\n",
        "                        cv=kfold,\n",
        "                        scoring='neg_mean_squared_error')\n",
        "G = grid.fit(X_train, y_train)\n"
      ]
    },
    {
      "cell_type": "markdown",
      "id": "1e802274",
      "metadata": {
        "id": "1e802274"
      },
      "source": [
        "In keeping with the cross-validation results, we use the pruned tree\n",
        "to make predictions on the test set."
      ]
    },
    {
      "cell_type": "code",
      "execution_count": null,
      "id": "78a255e3",
      "metadata": {
        "execution": {
          "iopub.execute_input": "2024-06-04T23:19:42.196310Z",
          "iopub.status.busy": "2024-06-04T23:19:42.196237Z",
          "iopub.status.idle": "2024-06-04T23:19:42.198627Z",
          "shell.execute_reply": "2024-06-04T23:19:42.198405Z"
        },
        "lines_to_next_cell": 2,
        "id": "78a255e3",
        "outputId": "a5242bf9-f31b-47a6-c3bf-3b545c40f44c",
        "colab": {
          "base_uri": "https://localhost:8080/"
        }
      },
      "outputs": [
        {
          "output_type": "execute_result",
          "data": {
            "text/plain": [
              "28.06985754975404"
            ]
          },
          "metadata": {},
          "execution_count": 65
        }
      ],
      "source": [
        "best_ = grid.best_estimator_\n",
        "np.mean((y_test - best_.predict(X_test))**2)\n"
      ]
    },
    {
      "cell_type": "markdown",
      "id": "1be24e79",
      "metadata": {
        "id": "1be24e79"
      },
      "source": [
        "In other words, the test set MSE associated with the regression tree\n",
        "is 28.07.  The square root of\n",
        "the MSE is therefore around\n",
        "5.30,\n",
        "indicating that this model leads to test predictions that are within around\n",
        "$5300\n",
        "of the true median home value for the suburb.\n",
        "\n",
        "Let’s plot the best tree to see how interpretable it is."
      ]
    },
    {
      "cell_type": "code",
      "execution_count": null,
      "id": "d6f01ff8",
      "metadata": {
        "execution": {
          "iopub.execute_input": "2024-06-04T23:19:42.199859Z",
          "iopub.status.busy": "2024-06-04T23:19:42.199787Z",
          "iopub.status.idle": "2024-06-04T23:19:42.377590Z",
          "shell.execute_reply": "2024-06-04T23:19:42.377308Z"
        },
        "lines_to_next_cell": 0,
        "id": "d6f01ff8",
        "outputId": "398ca1f9-a599-4dd0-f9aa-9a44ed7de83f",
        "colab": {
          "base_uri": "https://localhost:8080/",
          "height": 961
        }
      },
      "outputs": [
        {
          "output_type": "display_data",
          "data": {
            "text/plain": [
              "<Figure size 1200x1200 with 1 Axes>"
            ],
            "image/png": "[encoded data removed]"
          },
          "metadata": {}
        }
      ],
      "source": [
        "ax = subplots(figsize=(12,12))[1]\n",
        "plot_tree(G.best_estimator_,\n",
        "          feature_names=feature_names,\n",
        "          ax=ax);\n"
      ]
    },
    {
      "cell_type": "markdown",
      "id": "cd491f07",
      "metadata": {
        "id": "cd491f07"
      },
      "source": [
        "\n"
      ]
    },
    {
      "cell_type": "markdown",
      "id": "6fcf4ce3",
      "metadata": {
        "id": "6fcf4ce3"
      },
      "source": [
        "## Bagging and Random Forests"
      ]
    },
    {
      "cell_type": "markdown",
      "id": "6bab3fe7",
      "metadata": {
        "id": "6bab3fe7"
      },
      "source": [
        "Here we apply bagging and random forests to the `Boston` data, using\n",
        "the `RandomForestRegressor()` from the `sklearn.ensemble` package. Recall\n",
        "that bagging is simply a special case of a random forest with\n",
        "$m=p$. Therefore, the `RandomForestRegressor()`  function can be used to\n",
        "perform both bagging and random forests. We start with bagging."
      ]
    },
    {
      "cell_type": "code",
      "execution_count": null,
      "id": "6f7ba658",
      "metadata": {
        "execution": {
          "iopub.execute_input": "2024-06-04T23:19:42.379199Z",
          "iopub.status.busy": "2024-06-04T23:19:42.379090Z",
          "iopub.status.idle": "2024-06-04T23:19:42.503843Z",
          "shell.execute_reply": "2024-06-04T23:19:42.503577Z"
        },
        "lines_to_next_cell": 2,
        "id": "6f7ba658",
        "outputId": "7fad44c0-7803-4160-dbda-0c26e0817c63",
        "colab": {
          "base_uri": "https://localhost:8080/",
          "height": 80
        }
      },
      "outputs": [
        {
          "output_type": "execute_result",
          "data": {
            "text/plain": [
              "RandomForestRegressor(max_features=12, random_state=0)"
            ],
            "text/html": [
              "<style>#sk-container-id-5 {\n",
              "  /* Definition of color scheme common for light and dark mode */\n",
              "  --sklearn-color-text: black;\n",
              "  --sklearn-color-line: gray;\n",
              "  /* Definition of color scheme for unfitted estimators */\n",
              "  --sklearn-color-unfitted-level-0: #fff5e6;\n",
              "  --sklearn-color-unfitted-level-1: #f6e4d2;\n",
              "  --sklearn-color-unfitted-level-2: #ffe0b3;\n",
              "  --sklearn-color-unfitted-level-3: chocolate;\n",
              "  /* Definition of color scheme for fitted estimators */\n",
              "  --sklearn-color-fitted-level-0: #f0f8ff;\n",
              "  --sklearn-color-fitted-level-1: #d4ebff;\n",
              "  --sklearn-color-fitted-level-2: #b3dbfd;\n",
              "  --sklearn-color-fitted-level-3: cornflowerblue;\n",
              "\n",
              "  /* Specific color for light theme */\n",
              "  --sklearn-color-text-on-default-background: var(--sg-text-color, var(--theme-code-foreground, var(--jp-content-font-color1, black)));\n",
              "  --sklearn-color-background: var(--sg-background-color, var(--theme-background, var(--jp-layout-color0, white)));\n",
              "  --sklearn-color-border-box: var(--sg-text-color, var(--theme-code-foreground, var(--jp-content-font-color1, black)));\n",
              "  --sklearn-color-icon: #696969;\n",
              "\n",
              "  @media (prefers-color-scheme: dark) {\n",
              "    /* Redefinition of color scheme for dark theme */\n",
              "    --sklearn-color-text-on-default-background: var(--sg-text-color, var(--theme-code-foreground, var(--jp-content-font-color1, white)));\n",
              "    --sklearn-color-background: var(--sg-background-color, var(--theme-background, var(--jp-layout-color0, #111)));\n",
              "    --sklearn-color-border-box: var(--sg-text-color, var(--theme-code-foreground, var(--jp-content-font-color1, white)));\n",
              "    --sklearn-color-icon: #878787;\n",
              "  }\n",
              "}\n",
              "\n",
              "#sk-container-id-5 {\n",
              "  color: var(--sklearn-color-text);\n",
              "}\n",
              "\n",
              "#sk-container-id-5 pre {\n",
              "  padding: 0;\n",
              "}\n",
              "\n",
              "#sk-container-id-5 input.sk-hidden--visually {\n",
              "  border: 0;\n",
              "  clip: rect(1px 1px 1px 1px);\n",
              "  clip: rect(1px, 1px, 1px, 1px);\n",
              "  height: 1px;\n",
              "  margin: -1px;\n",
              "  overflow: hidden;\n",
              "  padding: 0;\n",
              "  position: absolute;\n",
              "  width: 1px;\n",
              "}\n",
              "\n",
              "#sk-container-id-5 div.sk-dashed-wrapped {\n",
              "  border: 1px dashed var(--sklearn-color-line);\n",
              "  margin: 0 0.4em 0.5em 0.4em;\n",
              "  box-sizing: border-box;\n",
              "  padding-bottom: 0.4em;\n",
              "  background-color: var(--sklearn-color-background);\n",
              "}\n",
              "\n",
              "#sk-container-id-5 div.sk-container {\n",
              "  /* jupyter's `normalize.less` sets `[hidden] { display: none; }`\n",
              "     but bootstrap.min.css set `[hidden] { display: none !important; }`\n",
              "     so we also need the `!important` here to be able to override the\n",
              "     default hidden behavior on the sphinx rendered scikit-learn.org.\n",
              "     See: https://github.com/scikit-learn/scikit-learn/issues/21755 */\n",
              "  display: inline-block !important;\n",
              "  position: relative;\n",
              "}\n",
              "\n",
              "#sk-container-id-5 div.sk-text-repr-fallback {\n",
              "  display: none;\n",
              "}\n",
              "\n",
              "div.sk-parallel-item,\n",
              "div.sk-serial,\n",
              "div.sk-item {\n",
              "  /* draw centered vertical line to link estimators */\n",
              "  background-image: linear-gradient(var(--sklearn-color-text-on-default-background), var(--sklearn-color-text-on-default-background));\n",
              "  background-size: 2px 100%;\n",
              "  background-repeat: no-repeat;\n",
              "  background-position: center center;\n",
              "}\n",
              "\n",
              "/* Parallel-specific style estimator block */\n",
              "\n",
              "#sk-container-id-5 div.sk-parallel-item::after {\n",
              "  content: \"\";\n",
              "  width: 100%;\n",
              "  border-bottom: 2px solid var(--sklearn-color-text-on-default-background);\n",
              "  flex-grow: 1;\n",
              "}\n",
              "\n",
              "#sk-container-id-5 div.sk-parallel {\n",
              "  display: flex;\n",
              "  align-items: stretch;\n",
              "  justify-content: center;\n",
              "  background-color: var(--sklearn-color-background);\n",
              "  position: relative;\n",
              "}\n",
              "\n",
              "#sk-container-id-5 div.sk-parallel-item {\n",
              "  display: flex;\n",
              "  flex-direction: column;\n",
              "}\n",
              "\n",
              "#sk-container-id-5 div.sk-parallel-item:first-child::after {\n",
              "  align-self: flex-end;\n",
              "  width: 50%;\n",
              "}\n",
              "\n",
              "#sk-container-id-5 div.sk-parallel-item:last-child::after {\n",
              "  align-self: flex-start;\n",
              "  width: 50%;\n",
              "}\n",
              "\n",
              "#sk-container-id-5 div.sk-parallel-item:only-child::after {\n",
              "  width: 0;\n",
              "}\n",
              "\n",
              "/* Serial-specific style estimator block */\n",
              "\n",
              "#sk-container-id-5 div.sk-serial {\n",
              "  display: flex;\n",
              "  flex-direction: column;\n",
              "  align-items: center;\n",
              "  background-color: var(--sklearn-color-background);\n",
              "  padding-right: 1em;\n",
              "  padding-left: 1em;\n",
              "}\n",
              "\n",
              "\n",
              "/* Toggleable style: style used for estimator/Pipeline/ColumnTransformer box that is\n",
              "clickable and can be expanded/collapsed.\n",
              "- Pipeline and ColumnTransformer use this feature and define the default style\n",
              "- Estimators will overwrite some part of the style using the `sk-estimator` class\n",
              "*/\n",
              "\n",
              "/* Pipeline and ColumnTransformer style (default) */\n",
              "\n",
              "#sk-container-id-5 div.sk-toggleable {\n",
              "  /* Default theme specific background. It is overwritten whether we have a\n",
              "  specific estimator or a Pipeline/ColumnTransformer */\n",
              "  background-color: var(--sklearn-color-background);\n",
              "}\n",
              "\n",
              "/* Toggleable label */\n",
              "#sk-container-id-5 label.sk-toggleable__label {\n",
              "  cursor: pointer;\n",
              "  display: block;\n",
              "  width: 100%;\n",
              "  margin-bottom: 0;\n",
              "  padding: 0.5em;\n",
              "  box-sizing: border-box;\n",
              "  text-align: center;\n",
              "}\n",
              "\n",
              "#sk-container-id-5 label.sk-toggleable__label-arrow:before {\n",
              "  /* Arrow on the left of the label */\n",
              "  content: \"▸\";\n",
              "  float: left;\n",
              "  margin-right: 0.25em;\n",
              "  color: var(--sklearn-color-icon);\n",
              "}\n",
              "\n",
              "#sk-container-id-5 label.sk-toggleable__label-arrow:hover:before {\n",
              "  color: var(--sklearn-color-text);\n",
              "}\n",
              "\n",
              "/* Toggleable content - dropdown */\n",
              "\n",
              "#sk-container-id-5 div.sk-toggleable__content {\n",
              "  max-height: 0;\n",
              "  max-width: 0;\n",
              "  overflow: hidden;\n",
              "  text-align: left;\n",
              "  /* unfitted */\n",
              "  background-color: var(--sklearn-color-unfitted-level-0);\n",
              "}\n",
              "\n",
              "#sk-container-id-5 div.sk-toggleable__content.fitted {\n",
              "  /* fitted */\n",
              "  background-color: var(--sklearn-color-fitted-level-0);\n",
              "}\n",
              "\n",
              "#sk-container-id-5 div.sk-toggleable__content pre {\n",
              "  margin: 0.2em;\n",
              "  border-radius: 0.25em;\n",
              "  color: var(--sklearn-color-text);\n",
              "  /* unfitted */\n",
              "  background-color: var(--sklearn-color-unfitted-level-0);\n",
              "}\n",
              "\n",
              "#sk-container-id-5 div.sk-toggleable__content.fitted pre {\n",
              "  /* unfitted */\n",
              "  background-color: var(--sklearn-color-fitted-level-0);\n",
              "}\n",
              "\n",
              "#sk-container-id-5 input.sk-toggleable__control:checked~div.sk-toggleable__content {\n",
              "  /* Expand drop-down */\n",
              "  max-height: 200px;\n",
              "  max-width: 100%;\n",
              "  overflow: auto;\n",
              "}\n",
              "\n",
              "#sk-container-id-5 input.sk-toggleable__control:checked~label.sk-toggleable__label-arrow:before {\n",
              "  content: \"▾\";\n",
              "}\n",
              "\n",
              "/* Pipeline/ColumnTransformer-specific style */\n",
              "\n",
              "#sk-container-id-5 div.sk-label input.sk-toggleable__control:checked~label.sk-toggleable__label {\n",
              "  color: var(--sklearn-color-text);\n",
              "  background-color: var(--sklearn-color-unfitted-level-2);\n",
              "}\n",
              "\n",
              "#sk-container-id-5 div.sk-label.fitted input.sk-toggleable__control:checked~label.sk-toggleable__label {\n",
              "  background-color: var(--sklearn-color-fitted-level-2);\n",
              "}\n",
              "\n",
              "/* Estimator-specific style */\n",
              "\n",
              "/* Colorize estimator box */\n",
              "#sk-container-id-5 div.sk-estimator input.sk-toggleable__control:checked~label.sk-toggleable__label {\n",
              "  /* unfitted */\n",
              "  background-color: var(--sklearn-color-unfitted-level-2);\n",
              "}\n",
              "\n",
              "#sk-container-id-5 div.sk-estimator.fitted input.sk-toggleable__control:checked~label.sk-toggleable__label {\n",
              "  /* fitted */\n",
              "  background-color: var(--sklearn-color-fitted-level-2);\n",
              "}\n",
              "\n",
              "#sk-container-id-5 div.sk-label label.sk-toggleable__label,\n",
              "#sk-container-id-5 div.sk-label label {\n",
              "  /* The background is the default theme color */\n",
              "  color: var(--sklearn-color-text-on-default-background);\n",
              "}\n",
              "\n",
              "/* On hover, darken the color of the background */\n",
              "#sk-container-id-5 div.sk-label:hover label.sk-toggleable__label {\n",
              "  color: var(--sklearn-color-text);\n",
              "  background-color: var(--sklearn-color-unfitted-level-2);\n",
              "}\n",
              "\n",
              "/* Label box, darken color on hover, fitted */\n",
              "#sk-container-id-5 div.sk-label.fitted:hover label.sk-toggleable__label.fitted {\n",
              "  color: var(--sklearn-color-text);\n",
              "  background-color: var(--sklearn-color-fitted-level-2);\n",
              "}\n",
              "\n",
              "/* Estimator label */\n",
              "\n",
              "#sk-container-id-5 div.sk-label label {\n",
              "  font-family: monospace;\n",
              "  font-weight: bold;\n",
              "  display: inline-block;\n",
              "  line-height: 1.2em;\n",
              "}\n",
              "\n",
              "#sk-container-id-5 div.sk-label-container {\n",
              "  text-align: center;\n",
              "}\n",
              "\n",
              "/* Estimator-specific */\n",
              "#sk-container-id-5 div.sk-estimator {\n",
              "  font-family: monospace;\n",
              "  border: 1px dotted var(--sklearn-color-border-box);\n",
              "  border-radius: 0.25em;\n",
              "  box-sizing: border-box;\n",
              "  margin-bottom: 0.5em;\n",
              "  /* unfitted */\n",
              "  background-color: var(--sklearn-color-unfitted-level-0);\n",
              "}\n",
              "\n",
              "#sk-container-id-5 div.sk-estimator.fitted {\n",
              "  /* fitted */\n",
              "  background-color: var(--sklearn-color-fitted-level-0);\n",
              "}\n",
              "\n",
              "/* on hover */\n",
              "#sk-container-id-5 div.sk-estimator:hover {\n",
              "  /* unfitted */\n",
              "  background-color: var(--sklearn-color-unfitted-level-2);\n",
              "}\n",
              "\n",
              "#sk-container-id-5 div.sk-estimator.fitted:hover {\n",
              "  /* fitted */\n",
              "  background-color: var(--sklearn-color-fitted-level-2);\n",
              "}\n",
              "\n",
              "/* Specification for estimator info (e.g. \"i\" and \"?\") */\n",
              "\n",
              "/* Common style for \"i\" and \"?\" */\n",
              "\n",
              ".sk-estimator-doc-link,\n",
              "a:link.sk-estimator-doc-link,\n",
              "a:visited.sk-estimator-doc-link {\n",
              "  float: right;\n",
              "  font-size: smaller;\n",
              "  line-height: 1em;\n",
              "  font-family: monospace;\n",
              "  background-color: var(--sklearn-color-background);\n",
              "  border-radius: 1em;\n",
              "  height: 1em;\n",
              "  width: 1em;\n",
              "  text-decoration: none !important;\n",
              "  margin-left: 1ex;\n",
              "  /* unfitted */\n",
              "  border: var(--sklearn-color-unfitted-level-1) 1pt solid;\n",
              "  color: var(--sklearn-color-unfitted-level-1);\n",
              "}\n",
              "\n",
              ".sk-estimator-doc-link.fitted,\n",
              "a:link.sk-estimator-doc-link.fitted,\n",
              "a:visited.sk-estimator-doc-link.fitted {\n",
              "  /* fitted */\n",
              "  border: var(--sklearn-color-fitted-level-1) 1pt solid;\n",
              "  color: var(--sklearn-color-fitted-level-1);\n",
              "}\n",
              "\n",
              "/* On hover */\n",
              "div.sk-estimator:hover .sk-estimator-doc-link:hover,\n",
              ".sk-estimator-doc-link:hover,\n",
              "div.sk-label-container:hover .sk-estimator-doc-link:hover,\n",
              ".sk-estimator-doc-link:hover {\n",
              "  /* unfitted */\n",
              "  background-color: var(--sklearn-color-unfitted-level-3);\n",
              "  color: var(--sklearn-color-background);\n",
              "  text-decoration: none;\n",
              "}\n",
              "\n",
              "div.sk-estimator.fitted:hover .sk-estimator-doc-link.fitted:hover,\n",
              ".sk-estimator-doc-link.fitted:hover,\n",
              "div.sk-label-container:hover .sk-estimator-doc-link.fitted:hover,\n",
              ".sk-estimator-doc-link.fitted:hover {\n",
              "  /* fitted */\n",
              "  background-color: var(--sklearn-color-fitted-level-3);\n",
              "  color: var(--sklearn-color-background);\n",
              "  text-decoration: none;\n",
              "}\n",
              "\n",
              "/* Span, style for the box shown on hovering the info icon */\n",
              ".sk-estimator-doc-link span {\n",
              "  display: none;\n",
              "  z-index: 9999;\n",
              "  position: relative;\n",
              "  font-weight: normal;\n",
              "  right: .2ex;\n",
              "  padding: .5ex;\n",
              "  margin: .5ex;\n",
              "  width: min-content;\n",
              "  min-width: 20ex;\n",
              "  max-width: 50ex;\n",
              "  color: var(--sklearn-color-text);\n",
              "  box-shadow: 2pt 2pt 4pt #999;\n",
              "  /* unfitted */\n",
              "  background: var(--sklearn-color-unfitted-level-0);\n",
              "  border: .5pt solid var(--sklearn-color-unfitted-level-3);\n",
              "}\n",
              "\n",
              ".sk-estimator-doc-link.fitted span {\n",
              "  /* fitted */\n",
              "  background: var(--sklearn-color-fitted-level-0);\n",
              "  border: var(--sklearn-color-fitted-level-3);\n",
              "}\n",
              "\n",
              ".sk-estimator-doc-link:hover span {\n",
              "  display: block;\n",
              "}\n",
              "\n",
              "/* \"?\"-specific style due to the `<a>` HTML tag */\n",
              "\n",
              "#sk-container-id-5 a.estimator_doc_link {\n",
              "  float: right;\n",
              "  font-size: 1rem;\n",
              "  line-height: 1em;\n",
              "  font-family: monospace;\n",
              "  background-color: var(--sklearn-color-background);\n",
              "  border-radius: 1rem;\n",
              "  height: 1rem;\n",
              "  width: 1rem;\n",
              "  text-decoration: none;\n",
              "  /* unfitted */\n",
              "  color: var(--sklearn-color-unfitted-level-1);\n",
              "  border: var(--sklearn-color-unfitted-level-1) 1pt solid;\n",
              "}\n",
              "\n",
              "#sk-container-id-5 a.estimator_doc_link.fitted {\n",
              "  /* fitted */\n",
              "  border: var(--sklearn-color-fitted-level-1) 1pt solid;\n",
              "  color: var(--sklearn-color-fitted-level-1);\n",
              "}\n",
              "\n",
              "/* On hover */\n",
              "#sk-container-id-5 a.estimator_doc_link:hover {\n",
              "  /* unfitted */\n",
              "  background-color: var(--sklearn-color-unfitted-level-3);\n",
              "  color: var(--sklearn-color-background);\n",
              "  text-decoration: none;\n",
              "}\n",
              "\n",
              "#sk-container-id-5 a.estimator_doc_link.fitted:hover {\n",
              "  /* fitted */\n",
              "  background-color: var(--sklearn-color-fitted-level-3);\n",
              "}\n",
              "</style><div id=\"sk-container-id-5\" class=\"sk-top-container\"><div class=\"sk-text-repr-fallback\"><pre>RandomForestRegressor(max_features=12, random_state=0)</pre><b>In a Jupyter environment, please rerun this cell to show the HTML representation or trust the notebook. <br />On GitHub, the HTML representation is unable to render, please try loading this page with nbviewer.org.</b></div><div class=\"sk-container\" hidden><div class=\"sk-item\"><div class=\"sk-estimator fitted sk-toggleable\"><input class=\"sk-toggleable__control sk-hidden--visually\" id=\"sk-estimator-id-5\" type=\"checkbox\" checked><label for=\"sk-estimator-id-5\" class=\"sk-toggleable__label fitted sk-toggleable__label-arrow fitted\">&nbsp;&nbsp;RandomForestRegressor<a class=\"sk-estimator-doc-link fitted\" rel=\"noreferrer\" target=\"_blank\" href=\"https://scikit-learn.org/1.5/modules/generated/sklearn.ensemble.RandomForestRegressor.html\">?<span>Documentation for RandomForestRegressor</span></a><span class=\"sk-estimator-doc-link fitted\">i<span>Fitted</span></span></label><div class=\"sk-toggleable__content fitted\"><pre>RandomForestRegressor(max_features=12, random_state=0)</pre></div> </div></div></div></div>"
            ]
          },
          "metadata": {},
          "execution_count": 67
        }
      ],
      "source": [
        "bag_boston = RF(max_features=X_train.shape[1], random_state=0)\n",
        "bag_boston.fit(X_train, y_train)\n"
      ]
    },
    {
      "cell_type": "markdown",
      "id": "ff30e5c3",
      "metadata": {
        "id": "ff30e5c3"
      },
      "source": [
        "The argument `max_features` indicates that all 12 predictors should\n",
        "be considered for each split of the tree --- in other words, that\n",
        "bagging should be done.  How well does this bagged model perform on\n",
        "the test set?"
      ]
    },
    {
      "cell_type": "code",
      "execution_count": null,
      "id": "82e484c3",
      "metadata": {
        "execution": {
          "iopub.execute_input": "2024-06-04T23:19:42.505229Z",
          "iopub.status.busy": "2024-06-04T23:19:42.505151Z",
          "iopub.status.idle": "2024-06-04T23:19:42.567276Z",
          "shell.execute_reply": "2024-06-04T23:19:42.567039Z"
        },
        "id": "82e484c3",
        "outputId": "22f7f3ae-3479-4640-e146-e980ac728232",
        "colab": {
          "base_uri": "https://localhost:8080/",
          "height": 713
        }
      },
      "outputs": [
        {
          "output_type": "stream",
          "name": "stdout",
          "text": [
            "Mean Squared Error: 14.634700151315787\n"
          ]
        },
        {
          "output_type": "display_data",
          "data": {
            "text/plain": [
              "<Figure size 800x800 with 1 Axes>"
            ],
            "image/png": "[encoded data removed]"
          },
          "metadata": {}
        }
      ],
      "source": [
        "ax = subplots(figsize=(8,8))[1]\n",
        "y_hat_bag = bag_boston.predict(X_test)\n",
        "ax.scatter(y_hat_bag, y_test)\n",
        "mse=np.mean((y_test - y_hat_bag)**2)\n",
        "print(\"Mean Squared Error:\", mse)\n",
        "ax.set_xlabel(\"Predicted Values\")\n",
        "ax.set_ylabel(\"Actual Values\")\n",
        "plt.show()"
      ]
    },
    {
      "cell_type": "markdown",
      "id": "9312ebcc",
      "metadata": {
        "id": "9312ebcc"
      },
      "source": [
        "The test set MSE associated with the bagged regression tree is\n",
        "14.63, about half that obtained using an optimally-pruned single\n",
        "tree.  We could change the number of trees grown from the default of\n",
        "100 by\n",
        "using the `n_estimators` argument:"
      ]
    },
    {
      "cell_type": "code",
      "execution_count": null,
      "id": "c8de558e",
      "metadata": {
        "execution": {
          "iopub.execute_input": "2024-06-04T23:19:42.568858Z",
          "iopub.status.busy": "2024-06-04T23:19:42.568766Z",
          "iopub.status.idle": "2024-06-04T23:19:43.181163Z",
          "shell.execute_reply": "2024-06-04T23:19:43.180926Z"
        },
        "lines_to_next_cell": 0,
        "id": "c8de558e",
        "outputId": "5c44ef74-8939-4c2b-9985-e9442058f56f",
        "colab": {
          "base_uri": "https://localhost:8080/"
        }
      },
      "outputs": [
        {
          "output_type": "execute_result",
          "data": {
            "text/plain": [
              "14.605662565263161"
            ]
          },
          "metadata": {},
          "execution_count": 69
        }
      ],
      "source": [
        "bag_boston = RF(max_features=X_train.shape[1],\n",
        "                n_estimators=500,\n",
        "                random_state=0).fit(X_train, y_train)\n",
        "y_hat_bag = bag_boston.predict(X_test)\n",
        "np.mean((y_test - y_hat_bag)**2)"
      ]
    },
    {
      "cell_type": "markdown",
      "id": "7841f5f8",
      "metadata": {
        "id": "7841f5f8"
      },
      "source": [
        "There is not much change. Bagging and random forests cannot overfit by\n",
        "increasing the number of trees, but can underfit if the number is too small.\n",
        "\n",
        "Growing a random forest proceeds in exactly the same way, except that\n",
        "we use a smaller value of the `max_features` argument. By default,\n",
        "`RandomForestRegressor()`  uses $p$ variables when building a random\n",
        "forest of regression trees (i.e. it defaults to bagging), and `RandomForestClassifier()` uses\n",
        "$\\sqrt{p}$ variables when building a\n",
        "random forest of classification trees. Here we use `max_features=6`."
      ]
    },
    {
      "cell_type": "code",
      "execution_count": null,
      "id": "bbebeb55",
      "metadata": {
        "execution": {
          "iopub.execute_input": "2024-06-04T23:19:43.182422Z",
          "iopub.status.busy": "2024-06-04T23:19:43.182350Z",
          "iopub.status.idle": "2024-06-04T23:19:43.262543Z",
          "shell.execute_reply": "2024-06-04T23:19:43.262340Z"
        },
        "lines_to_next_cell": 2,
        "id": "bbebeb55",
        "outputId": "bacada73-84b6-4e8e-c8c5-c1ea52f38b80",
        "colab": {
          "base_uri": "https://localhost:8080/"
        }
      },
      "outputs": [
        {
          "output_type": "execute_result",
          "data": {
            "text/plain": [
              "20.04276446710527"
            ]
          },
          "metadata": {},
          "execution_count": 70
        }
      ],
      "source": [
        "RF_boston = RF(max_features=6,\n",
        "               random_state=0).fit(X_train, y_train)\n",
        "y_hat_RF = RF_boston.predict(X_test)\n",
        "np.mean((y_test - y_hat_RF)**2)\n"
      ]
    },
    {
      "cell_type": "markdown",
      "id": "5e2a4fa4",
      "metadata": {
        "id": "5e2a4fa4"
      },
      "source": [
        "The test set MSE is 20.04;\n",
        "this indicates that random forests did somewhat worse than bagging\n",
        "in this case. Extracting the `feature_importances_` values from the fitted model, we can view the\n",
        "importance of each variable."
      ]
    },
    {
      "cell_type": "code",
      "execution_count": null,
      "id": "36dcca85",
      "metadata": {
        "execution": {
          "iopub.execute_input": "2024-06-04T23:19:43.263779Z",
          "iopub.status.busy": "2024-06-04T23:19:43.263707Z",
          "iopub.status.idle": "2024-06-04T23:19:43.268724Z",
          "shell.execute_reply": "2024-06-04T23:19:43.268512Z"
        },
        "lines_to_next_cell": 0,
        "id": "36dcca85"
      },
      "outputs": [],
      "source": [
        "feature_imp = pd.DataFrame(\n",
        "    {'importance':RF_boston.feature_importances_},\n",
        "    index=feature_names)\n",
        "feature_imp.sort_values(by='importance', ascending=False,inplace=True)"
      ]
    },
    {
      "cell_type": "code",
      "source": [
        "plt.figure(figsize=(10, 6))\n",
        "plt.barh(feature_imp.index, feature_imp['importance'])\n",
        "plt.xlabel('Importance')\n",
        "plt.title('Feature Importance')\n",
        "plt.gca().invert_yaxis()  # Invert y-axis for descending order\n",
        "plt.show()"
      ],
      "metadata": {
        "colab": {
          "base_uri": "https://localhost:8080/",
          "height": 564
        },
        "id": "yuTYqg32cvfx",
        "outputId": "f97535f7-2cc8-450c-e46c-adec4c3692be"
      },
      "id": "yuTYqg32cvfx",
      "execution_count": null,
      "outputs": [
        {
          "output_type": "display_data",
          "data": {
            "text/plain": [
              "<Figure size 1000x600 with 1 Axes>"
            ],
            "image/png": "[encoded data removed]"
          },
          "metadata": {}
        }
      ]
    },
    {
      "cell_type": "markdown",
      "id": "a7ed872f",
      "metadata": {
        "id": "a7ed872f"
      },
      "source": [
        " This\n",
        "is a relative measure of the total decrease in node impurity that results from\n",
        "splits over that variable, averaged over all trees (this was plotted in Figure~\\ref{Ch8:fig:varimp} for a model fit to the `Heart` data).\n",
        "\n",
        "The results indicate that across all of the trees considered in the\n",
        "random forest, the wealth level of the community (`lstat`) and the\n",
        "house size (`rm`) are by far the two most important variables.\n",
        "\n",
        "  "
      ]
    },
    {
      "cell_type": "markdown",
      "id": "cd8a07e7",
      "metadata": {
        "id": "cd8a07e7"
      },
      "source": [
        "## Boosting"
      ]
    },
    {
      "cell_type": "markdown",
      "id": "d491bcd5",
      "metadata": {
        "id": "d491bcd5"
      },
      "source": [
        "Here we use `GradientBoostingRegressor()` from `sklearn.ensemble`\n",
        "to fit boosted regression trees to the `Boston` data\n",
        "set. For classification we would  use `GradientBoostingClassifier()`.\n",
        "The argument `n_estimators=5000`\n",
        "indicates that we want 5000 trees, and the option\n",
        "`max_depth=3` limits the depth of each tree. The\n",
        "argument `learning_rate` is the $\\lambda$\n",
        "mentioned earlier in the description of boosting."
      ]
    },
    {
      "cell_type": "code",
      "execution_count": null,
      "id": "4478fc0c",
      "metadata": {
        "execution": {
          "iopub.execute_input": "2024-06-04T23:19:43.270020Z",
          "iopub.status.busy": "2024-06-04T23:19:43.269951Z",
          "iopub.status.idle": "2024-06-04T23:19:45.951552Z",
          "shell.execute_reply": "2024-06-04T23:19:45.951319Z"
        },
        "id": "4478fc0c",
        "outputId": "7026ffe3-c78f-4cea-8c83-ad554242489a",
        "colab": {
          "base_uri": "https://localhost:8080/",
          "height": 97
        }
      },
      "outputs": [
        {
          "output_type": "execute_result",
          "data": {
            "text/plain": [
              "GradientBoostingRegressor(learning_rate=0.001, n_estimators=5000,\n",
              "                          random_state=0)"
            ],
            "text/html": [
              "<style>#sk-container-id-6 {\n",
              "  /* Definition of color scheme common for light and dark mode */\n",
              "  --sklearn-color-text: black;\n",
              "  --sklearn-color-line: gray;\n",
              "  /* Definition of color scheme for unfitted estimators */\n",
              "  --sklearn-color-unfitted-level-0: #fff5e6;\n",
              "  --sklearn-color-unfitted-level-1: #f6e4d2;\n",
              "  --sklearn-color-unfitted-level-2: #ffe0b3;\n",
              "  --sklearn-color-unfitted-level-3: chocolate;\n",
              "  /* Definition of color scheme for fitted estimators */\n",
              "  --sklearn-color-fitted-level-0: #f0f8ff;\n",
              "  --sklearn-color-fitted-level-1: #d4ebff;\n",
              "  --sklearn-color-fitted-level-2: #b3dbfd;\n",
              "  --sklearn-color-fitted-level-3: cornflowerblue;\n",
              "\n",
              "  /* Specific color for light theme */\n",
              "  --sklearn-color-text-on-default-background: var(--sg-text-color, var(--theme-code-foreground, var(--jp-content-font-color1, black)));\n",
              "  --sklearn-color-background: var(--sg-background-color, var(--theme-background, var(--jp-layout-color0, white)));\n",
              "  --sklearn-color-border-box: var(--sg-text-color, var(--theme-code-foreground, var(--jp-content-font-color1, black)));\n",
              "  --sklearn-color-icon: #696969;\n",
              "\n",
              "  @media (prefers-color-scheme: dark) {\n",
              "    /* Redefinition of color scheme for dark theme */\n",
              "    --sklearn-color-text-on-default-background: var(--sg-text-color, var(--theme-code-foreground, var(--jp-content-font-color1, white)));\n",
              "    --sklearn-color-background: var(--sg-background-color, var(--theme-background, var(--jp-layout-color0, #111)));\n",
              "    --sklearn-color-border-box: var(--sg-text-color, var(--theme-code-foreground, var(--jp-content-font-color1, white)));\n",
              "    --sklearn-color-icon: #878787;\n",
              "  }\n",
              "}\n",
              "\n",
              "#sk-container-id-6 {\n",
              "  color: var(--sklearn-color-text);\n",
              "}\n",
              "\n",
              "#sk-container-id-6 pre {\n",
              "  padding: 0;\n",
              "}\n",
              "\n",
              "#sk-container-id-6 input.sk-hidden--visually {\n",
              "  border: 0;\n",
              "  clip: rect(1px 1px 1px 1px);\n",
              "  clip: rect(1px, 1px, 1px, 1px);\n",
              "  height: 1px;\n",
              "  margin: -1px;\n",
              "  overflow: hidden;\n",
              "  padding: 0;\n",
              "  position: absolute;\n",
              "  width: 1px;\n",
              "}\n",
              "\n",
              "#sk-container-id-6 div.sk-dashed-wrapped {\n",
              "  border: 1px dashed var(--sklearn-color-line);\n",
              "  margin: 0 0.4em 0.5em 0.4em;\n",
              "  box-sizing: border-box;\n",
              "  padding-bottom: 0.4em;\n",
              "  background-color: var(--sklearn-color-background);\n",
              "}\n",
              "\n",
              "#sk-container-id-6 div.sk-container {\n",
              "  /* jupyter's `normalize.less` sets `[hidden] { display: none; }`\n",
              "     but bootstrap.min.css set `[hidden] { display: none !important; }`\n",
              "     so we also need the `!important` here to be able to override the\n",
              "     default hidden behavior on the sphinx rendered scikit-learn.org.\n",
              "     See: https://github.com/scikit-learn/scikit-learn/issues/21755 */\n",
              "  display: inline-block !important;\n",
              "  position: relative;\n",
              "}\n",
              "\n",
              "#sk-container-id-6 div.sk-text-repr-fallback {\n",
              "  display: none;\n",
              "}\n",
              "\n",
              "div.sk-parallel-item,\n",
              "div.sk-serial,\n",
              "div.sk-item {\n",
              "  /* draw centered vertical line to link estimators */\n",
              "  background-image: linear-gradient(var(--sklearn-color-text-on-default-background), var(--sklearn-color-text-on-default-background));\n",
              "  background-size: 2px 100%;\n",
              "  background-repeat: no-repeat;\n",
              "  background-position: center center;\n",
              "}\n",
              "\n",
              "/* Parallel-specific style estimator block */\n",
              "\n",
              "#sk-container-id-6 div.sk-parallel-item::after {\n",
              "  content: \"\";\n",
              "  width: 100%;\n",
              "  border-bottom: 2px solid var(--sklearn-color-text-on-default-background);\n",
              "  flex-grow: 1;\n",
              "}\n",
              "\n",
              "#sk-container-id-6 div.sk-parallel {\n",
              "  display: flex;\n",
              "  align-items: stretch;\n",
              "  justify-content: center;\n",
              "  background-color: var(--sklearn-color-background);\n",
              "  position: relative;\n",
              "}\n",
              "\n",
              "#sk-container-id-6 div.sk-parallel-item {\n",
              "  display: flex;\n",
              "  flex-direction: column;\n",
              "}\n",
              "\n",
              "#sk-container-id-6 div.sk-parallel-item:first-child::after {\n",
              "  align-self: flex-end;\n",
              "  width: 50%;\n",
              "}\n",
              "\n",
              "#sk-container-id-6 div.sk-parallel-item:last-child::after {\n",
              "  align-self: flex-start;\n",
              "  width: 50%;\n",
              "}\n",
              "\n",
              "#sk-container-id-6 div.sk-parallel-item:only-child::after {\n",
              "  width: 0;\n",
              "}\n",
              "\n",
              "/* Serial-specific style estimator block */\n",
              "\n",
              "#sk-container-id-6 div.sk-serial {\n",
              "  display: flex;\n",
              "  flex-direction: column;\n",
              "  align-items: center;\n",
              "  background-color: var(--sklearn-color-background);\n",
              "  padding-right: 1em;\n",
              "  padding-left: 1em;\n",
              "}\n",
              "\n",
              "\n",
              "/* Toggleable style: style used for estimator/Pipeline/ColumnTransformer box that is\n",
              "clickable and can be expanded/collapsed.\n",
              "- Pipeline and ColumnTransformer use this feature and define the default style\n",
              "- Estimators will overwrite some part of the style using the `sk-estimator` class\n",
              "*/\n",
              "\n",
              "/* Pipeline and ColumnTransformer style (default) */\n",
              "\n",
              "#sk-container-id-6 div.sk-toggleable {\n",
              "  /* Default theme specific background. It is overwritten whether we have a\n",
              "  specific estimator or a Pipeline/ColumnTransformer */\n",
              "  background-color: var(--sklearn-color-background);\n",
              "}\n",
              "\n",
              "/* Toggleable label */\n",
              "#sk-container-id-6 label.sk-toggleable__label {\n",
              "  cursor: pointer;\n",
              "  display: block;\n",
              "  width: 100%;\n",
              "  margin-bottom: 0;\n",
              "  padding: 0.5em;\n",
              "  box-sizing: border-box;\n",
              "  text-align: center;\n",
              "}\n",
              "\n",
              "#sk-container-id-6 label.sk-toggleable__label-arrow:before {\n",
              "  /* Arrow on the left of the label */\n",
              "  content: \"▸\";\n",
              "  float: left;\n",
              "  margin-right: 0.25em;\n",
              "  color: var(--sklearn-color-icon);\n",
              "}\n",
              "\n",
              "#sk-container-id-6 label.sk-toggleable__label-arrow:hover:before {\n",
              "  color: var(--sklearn-color-text);\n",
              "}\n",
              "\n",
              "/* Toggleable content - dropdown */\n",
              "\n",
              "#sk-container-id-6 div.sk-toggleable__content {\n",
              "  max-height: 0;\n",
              "  max-width: 0;\n",
              "  overflow: hidden;\n",
              "  text-align: left;\n",
              "  /* unfitted */\n",
              "  background-color: var(--sklearn-color-unfitted-level-0);\n",
              "}\n",
              "\n",
              "#sk-container-id-6 div.sk-toggleable__content.fitted {\n",
              "  /* fitted */\n",
              "  background-color: var(--sklearn-color-fitted-level-0);\n",
              "}\n",
              "\n",
              "#sk-container-id-6 div.sk-toggleable__content pre {\n",
              "  margin: 0.2em;\n",
              "  border-radius: 0.25em;\n",
              "  color: var(--sklearn-color-text);\n",
              "  /* unfitted */\n",
              "  background-color: var(--sklearn-color-unfitted-level-0);\n",
              "}\n",
              "\n",
              "#sk-container-id-6 div.sk-toggleable__content.fitted pre {\n",
              "  /* unfitted */\n",
              "  background-color: var(--sklearn-color-fitted-level-0);\n",
              "}\n",
              "\n",
              "#sk-container-id-6 input.sk-toggleable__control:checked~div.sk-toggleable__content {\n",
              "  /* Expand drop-down */\n",
              "  max-height: 200px;\n",
              "  max-width: 100%;\n",
              "  overflow: auto;\n",
              "}\n",
              "\n",
              "#sk-container-id-6 input.sk-toggleable__control:checked~label.sk-toggleable__label-arrow:before {\n",
              "  content: \"▾\";\n",
              "}\n",
              "\n",
              "/* Pipeline/ColumnTransformer-specific style */\n",
              "\n",
              "#sk-container-id-6 div.sk-label input.sk-toggleable__control:checked~label.sk-toggleable__label {\n",
              "  color: var(--sklearn-color-text);\n",
              "  background-color: var(--sklearn-color-unfitted-level-2);\n",
              "}\n",
              "\n",
              "#sk-container-id-6 div.sk-label.fitted input.sk-toggleable__control:checked~label.sk-toggleable__label {\n",
              "  background-color: var(--sklearn-color-fitted-level-2);\n",
              "}\n",
              "\n",
              "/* Estimator-specific style */\n",
              "\n",
              "/* Colorize estimator box */\n",
              "#sk-container-id-6 div.sk-estimator input.sk-toggleable__control:checked~label.sk-toggleable__label {\n",
              "  /* unfitted */\n",
              "  background-color: var(--sklearn-color-unfitted-level-2);\n",
              "}\n",
              "\n",
              "#sk-container-id-6 div.sk-estimator.fitted input.sk-toggleable__control:checked~label.sk-toggleable__label {\n",
              "  /* fitted */\n",
              "  background-color: var(--sklearn-color-fitted-level-2);\n",
              "}\n",
              "\n",
              "#sk-container-id-6 div.sk-label label.sk-toggleable__label,\n",
              "#sk-container-id-6 div.sk-label label {\n",
              "  /* The background is the default theme color */\n",
              "  color: var(--sklearn-color-text-on-default-background);\n",
              "}\n",
              "\n",
              "/* On hover, darken the color of the background */\n",
              "#sk-container-id-6 div.sk-label:hover label.sk-toggleable__label {\n",
              "  color: var(--sklearn-color-text);\n",
              "  background-color: var(--sklearn-color-unfitted-level-2);\n",
              "}\n",
              "\n",
              "/* Label box, darken color on hover, fitted */\n",
              "#sk-container-id-6 div.sk-label.fitted:hover label.sk-toggleable__label.fitted {\n",
              "  color: var(--sklearn-color-text);\n",
              "  background-color: var(--sklearn-color-fitted-level-2);\n",
              "}\n",
              "\n",
              "/* Estimator label */\n",
              "\n",
              "#sk-container-id-6 div.sk-label label {\n",
              "  font-family: monospace;\n",
              "  font-weight: bold;\n",
              "  display: inline-block;\n",
              "  line-height: 1.2em;\n",
              "}\n",
              "\n",
              "#sk-container-id-6 div.sk-label-container {\n",
              "  text-align: center;\n",
              "}\n",
              "\n",
              "/* Estimator-specific */\n",
              "#sk-container-id-6 div.sk-estimator {\n",
              "  font-family: monospace;\n",
              "  border: 1px dotted var(--sklearn-color-border-box);\n",
              "  border-radius: 0.25em;\n",
              "  box-sizing: border-box;\n",
              "  margin-bottom: 0.5em;\n",
              "  /* unfitted */\n",
              "  background-color: var(--sklearn-color-unfitted-level-0);\n",
              "}\n",
              "\n",
              "#sk-container-id-6 div.sk-estimator.fitted {\n",
              "  /* fitted */\n",
              "  background-color: var(--sklearn-color-fitted-level-0);\n",
              "}\n",
              "\n",
              "/* on hover */\n",
              "#sk-container-id-6 div.sk-estimator:hover {\n",
              "  /* unfitted */\n",
              "  background-color: var(--sklearn-color-unfitted-level-2);\n",
              "}\n",
              "\n",
              "#sk-container-id-6 div.sk-estimator.fitted:hover {\n",
              "  /* fitted */\n",
              "  background-color: var(--sklearn-color-fitted-level-2);\n",
              "}\n",
              "\n",
              "/* Specification for estimator info (e.g. \"i\" and \"?\") */\n",
              "\n",
              "/* Common style for \"i\" and \"?\" */\n",
              "\n",
              ".sk-estimator-doc-link,\n",
              "a:link.sk-estimator-doc-link,\n",
              "a:visited.sk-estimator-doc-link {\n",
              "  float: right;\n",
              "  font-size: smaller;\n",
              "  line-height: 1em;\n",
              "  font-family: monospace;\n",
              "  background-color: var(--sklearn-color-background);\n",
              "  border-radius: 1em;\n",
              "  height: 1em;\n",
              "  width: 1em;\n",
              "  text-decoration: none !important;\n",
              "  margin-left: 1ex;\n",
              "  /* unfitted */\n",
              "  border: var(--sklearn-color-unfitted-level-1) 1pt solid;\n",
              "  color: var(--sklearn-color-unfitted-level-1);\n",
              "}\n",
              "\n",
              ".sk-estimator-doc-link.fitted,\n",
              "a:link.sk-estimator-doc-link.fitted,\n",
              "a:visited.sk-estimator-doc-link.fitted {\n",
              "  /* fitted */\n",
              "  border: var(--sklearn-color-fitted-level-1) 1pt solid;\n",
              "  color: var(--sklearn-color-fitted-level-1);\n",
              "}\n",
              "\n",
              "/* On hover */\n",
              "div.sk-estimator:hover .sk-estimator-doc-link:hover,\n",
              ".sk-estimator-doc-link:hover,\n",
              "div.sk-label-container:hover .sk-estimator-doc-link:hover,\n",
              ".sk-estimator-doc-link:hover {\n",
              "  /* unfitted */\n",
              "  background-color: var(--sklearn-color-unfitted-level-3);\n",
              "  color: var(--sklearn-color-background);\n",
              "  text-decoration: none;\n",
              "}\n",
              "\n",
              "div.sk-estimator.fitted:hover .sk-estimator-doc-link.fitted:hover,\n",
              ".sk-estimator-doc-link.fitted:hover,\n",
              "div.sk-label-container:hover .sk-estimator-doc-link.fitted:hover,\n",
              ".sk-estimator-doc-link.fitted:hover {\n",
              "  /* fitted */\n",
              "  background-color: var(--sklearn-color-fitted-level-3);\n",
              "  color: var(--sklearn-color-background);\n",
              "  text-decoration: none;\n",
              "}\n",
              "\n",
              "/* Span, style for the box shown on hovering the info icon */\n",
              ".sk-estimator-doc-link span {\n",
              "  display: none;\n",
              "  z-index: 9999;\n",
              "  position: relative;\n",
              "  font-weight: normal;\n",
              "  right: .2ex;\n",
              "  padding: .5ex;\n",
              "  margin: .5ex;\n",
              "  width: min-content;\n",
              "  min-width: 20ex;\n",
              "  max-width: 50ex;\n",
              "  color: var(--sklearn-color-text);\n",
              "  box-shadow: 2pt 2pt 4pt #999;\n",
              "  /* unfitted */\n",
              "  background: var(--sklearn-color-unfitted-level-0);\n",
              "  border: .5pt solid var(--sklearn-color-unfitted-level-3);\n",
              "}\n",
              "\n",
              ".sk-estimator-doc-link.fitted span {\n",
              "  /* fitted */\n",
              "  background: var(--sklearn-color-fitted-level-0);\n",
              "  border: var(--sklearn-color-fitted-level-3);\n",
              "}\n",
              "\n",
              ".sk-estimator-doc-link:hover span {\n",
              "  display: block;\n",
              "}\n",
              "\n",
              "/* \"?\"-specific style due to the `<a>` HTML tag */\n",
              "\n",
              "#sk-container-id-6 a.estimator_doc_link {\n",
              "  float: right;\n",
              "  font-size: 1rem;\n",
              "  line-height: 1em;\n",
              "  font-family: monospace;\n",
              "  background-color: var(--sklearn-color-background);\n",
              "  border-radius: 1rem;\n",
              "  height: 1rem;\n",
              "  width: 1rem;\n",
              "  text-decoration: none;\n",
              "  /* unfitted */\n",
              "  color: var(--sklearn-color-unfitted-level-1);\n",
              "  border: var(--sklearn-color-unfitted-level-1) 1pt solid;\n",
              "}\n",
              "\n",
              "#sk-container-id-6 a.estimator_doc_link.fitted {\n",
              "  /* fitted */\n",
              "  border: var(--sklearn-color-fitted-level-1) 1pt solid;\n",
              "  color: var(--sklearn-color-fitted-level-1);\n",
              "}\n",
              "\n",
              "/* On hover */\n",
              "#sk-container-id-6 a.estimator_doc_link:hover {\n",
              "  /* unfitted */\n",
              "  background-color: var(--sklearn-color-unfitted-level-3);\n",
              "  color: var(--sklearn-color-background);\n",
              "  text-decoration: none;\n",
              "}\n",
              "\n",
              "#sk-container-id-6 a.estimator_doc_link.fitted:hover {\n",
              "  /* fitted */\n",
              "  background-color: var(--sklearn-color-fitted-level-3);\n",
              "}\n",
              "</style><div id=\"sk-container-id-6\" class=\"sk-top-container\"><div class=\"sk-text-repr-fallback\"><pre>GradientBoostingRegressor(learning_rate=0.001, n_estimators=5000,\n",
              "                          random_state=0)</pre><b>In a Jupyter environment, please rerun this cell to show the HTML representation or trust the notebook. <br />On GitHub, the HTML representation is unable to render, please try loading this page with nbviewer.org.</b></div><div class=\"sk-container\" hidden><div class=\"sk-item\"><div class=\"sk-estimator fitted sk-toggleable\"><input class=\"sk-toggleable__control sk-hidden--visually\" id=\"sk-estimator-id-6\" type=\"checkbox\" checked><label for=\"sk-estimator-id-6\" class=\"sk-toggleable__label fitted sk-toggleable__label-arrow fitted\">&nbsp;&nbsp;GradientBoostingRegressor<a class=\"sk-estimator-doc-link fitted\" rel=\"noreferrer\" target=\"_blank\" href=\"https://scikit-learn.org/1.5/modules/generated/sklearn.ensemble.GradientBoostingRegressor.html\">?<span>Documentation for GradientBoostingRegressor</span></a><span class=\"sk-estimator-doc-link fitted\">i<span>Fitted</span></span></label><div class=\"sk-toggleable__content fitted\"><pre>GradientBoostingRegressor(learning_rate=0.001, n_estimators=5000,\n",
              "                          random_state=0)</pre></div> </div></div></div></div>"
            ]
          },
          "metadata": {},
          "execution_count": 73
        }
      ],
      "source": [
        "boost_boston = GBR(n_estimators=5000,\n",
        "                   learning_rate=0.001,\n",
        "                   max_depth=3,\n",
        "                   random_state=0)\n",
        "boost_boston.fit(X_train, y_train)\n"
      ]
    },
    {
      "cell_type": "markdown",
      "id": "4046f1a2",
      "metadata": {
        "id": "4046f1a2"
      },
      "source": [
        "We can see how the training error decreases with the `train_score_` attribute.\n",
        "To get an idea of how the test error decreases we can use the\n",
        "`staged_predict()` method to get the predicted values along the path."
      ]
    },
    {
      "cell_type": "code",
      "execution_count": null,
      "id": "57ac9a1e",
      "metadata": {
        "execution": {
          "iopub.execute_input": "2024-06-04T23:19:45.952863Z",
          "iopub.status.busy": "2024-06-04T23:19:45.952788Z",
          "iopub.status.idle": "2024-06-04T23:19:46.246579Z",
          "shell.execute_reply": "2024-06-04T23:19:46.246323Z"
        },
        "id": "57ac9a1e",
        "outputId": "078e18ae-7896-4594-f3a3-0e037d3b9c59",
        "colab": {
          "base_uri": "https://localhost:8080/",
          "height": 676
        }
      },
      "outputs": [
        {
          "output_type": "display_data",
          "data": {
            "text/plain": [
              "<Figure size 800x800 with 1 Axes>"
            ],
            "image/png": "[encoded data removed]"
          },
          "metadata": {}
        }
      ],
      "source": [
        "test_error = np.zeros_like(boost_boston.train_score_)\n",
        "for idx, y_ in enumerate(boost_boston.staged_predict(X_test)):\n",
        "   test_error[idx] = np.mean((y_test - y_)**2)\n",
        "\n",
        "plot_idx = np.arange(boost_boston.train_score_.shape[0])\n",
        "ax = subplots(figsize=(8,8))[1]\n",
        "ax.plot(plot_idx,\n",
        "        boost_boston.train_score_,\n",
        "        'b',\n",
        "        label='Training')\n",
        "ax.plot(plot_idx,\n",
        "        test_error,\n",
        "        'r',\n",
        "        label='Test')\n",
        "ax.legend();\n"
      ]
    },
    {
      "cell_type": "markdown",
      "id": "dd6568e3",
      "metadata": {
        "id": "dd6568e3"
      },
      "source": [
        "We now use the boosted model to predict `medv` on the test set:"
      ]
    },
    {
      "cell_type": "code",
      "execution_count": null,
      "id": "5e9127e2",
      "metadata": {
        "execution": {
          "iopub.execute_input": "2024-06-04T23:19:46.248030Z",
          "iopub.status.busy": "2024-06-04T23:19:46.247950Z",
          "iopub.status.idle": "2024-06-04T23:19:46.256507Z",
          "shell.execute_reply": "2024-06-04T23:19:46.256269Z"
        },
        "id": "5e9127e2",
        "outputId": "20a99114-be88-4947-aa5c-8a11c76807a1",
        "colab": {
          "base_uri": "https://localhost:8080/"
        }
      },
      "outputs": [
        {
          "output_type": "execute_result",
          "data": {
            "text/plain": [
              "14.481405918831591"
            ]
          },
          "metadata": {},
          "execution_count": 75
        }
      ],
      "source": [
        "y_hat_boost = boost_boston.predict(X_test);\n",
        "np.mean((y_test - y_hat_boost)**2)\n"
      ]
    },
    {
      "cell_type": "markdown",
      "id": "77eb1bc9",
      "metadata": {
        "id": "77eb1bc9"
      },
      "source": [
        " The test MSE obtained is 14.48,\n",
        "similar to the test MSE for bagging. If we want to, we can\n",
        "perform boosting with a different value of the shrinkage parameter\n",
        "$\\lambda$ in  (\\ref{Ch8:alphaboost}). The default value is 0.001, but\n",
        "this is easily modified.  Here we take $\\lambda=0.2$."
      ]
    },
    {
      "cell_type": "code",
      "execution_count": null,
      "id": "f76d94d9",
      "metadata": {
        "execution": {
          "iopub.execute_input": "2024-06-04T23:19:46.257975Z",
          "iopub.status.busy": "2024-06-04T23:19:46.257861Z",
          "iopub.status.idle": "2024-06-04T23:19:48.006426Z",
          "shell.execute_reply": "2024-06-04T23:19:48.006184Z"
        },
        "lines_to_next_cell": 2,
        "id": "f76d94d9",
        "outputId": "fb22684a-5353-4be3-ae0f-d8f4ceb074e1",
        "colab": {
          "base_uri": "https://localhost:8080/"
        }
      },
      "outputs": [
        {
          "output_type": "execute_result",
          "data": {
            "text/plain": [
              "14.501514553719565"
            ]
          },
          "metadata": {},
          "execution_count": 76
        }
      ],
      "source": [
        "boost_boston = GBR(n_estimators=5000,\n",
        "                   learning_rate=0.2,\n",
        "                   max_depth=3,\n",
        "                   random_state=0)\n",
        "boost_boston.fit(X_train,\n",
        "                 y_train)\n",
        "y_hat_boost = boost_boston.predict(X_test);\n",
        "np.mean((y_test - y_hat_boost)**2)\n"
      ]
    },
    {
      "cell_type": "markdown",
      "id": "5f4ff1aa",
      "metadata": {
        "id": "5f4ff1aa"
      },
      "source": [
        "In this case, using $\\lambda=0.2$ leads to a almost the same test MSE\n",
        "as when using $\\lambda=0.001$.\n",
        "\n"
      ]
    }
  ],
  "metadata": {
    "jupytext": {
      "cell_metadata_filter": "-all",
      "main_language": "python",
      "notebook_metadata_filter": "-all"
    },
    "language_info": {
      "name": "python"
    },
    "colab": {
      "provenance": []
    },
    "kernelspec": {
      "name": "python3",
      "display_name": "Python 3"
    }
  },
  "nbformat": 4,
  "nbformat_minor": 5
}
